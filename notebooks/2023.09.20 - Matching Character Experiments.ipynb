{
 "cells": [
  {
   "cell_type": "code",
   "execution_count": 1,
   "metadata": {},
   "outputs": [
    {
     "name": "stdout",
     "output_type": "stream",
     "text": [
      "True\n"
     ]
    },
    {
     "name": "stderr",
     "output_type": "stream",
     "text": [
      "INFO:root:Indexing Gutenberg corpus.\n",
      "INFO:root:Reading metadata from /home/ben/Projects/story-wrapper/src/story_wrapper/data_loaders/indexes/md.pickle.gz\n",
      "INFO:root:Indexing complete.\n",
      "INFO:root:Number of books in Gutenberg corpus: 69478\n",
      " at line 8197 line: End of Project Gutenberg's Mary Minds Her Business, by George Weston\n",
      "DEBUG:root:TOC locations to be deleted: []\n",
      "INFO:root:Heading locations: [292, 408, 512, 625, 942, 1108, 1255, 1343, 1434, 1643, 1896, 2151, 2367, 2539, 2676, 2937, 3082, 3212, 3416, 3516, 3717, 4010, 4140, 4388, 4616, 5364, 5534, 6361, 6419, 6807, 6973, 7201, 7349, 7670, 7815, 7980, 8086, 8197]\n",
      "INFO:root:Headings: ['CHAPTER I\\r', 'CHAPTER II\\r', 'CHAPTER III\\r', 'CHAPTER IV\\r', 'CHAPTER V\\r', 'CHAPTER VI\\r', 'CHAPTER VII\\r', 'CHAPTER VIII\\r', 'CHAPTER IX\\r', 'CHAPTER X\\r', 'CHAPTER XI\\r', 'CHAPTER XII\\r', 'CHAPTER XIII\\r', 'CHAPTER XIV\\r', 'CHAPTER XV\\r', 'CHAPTER XVI\\r', 'CHAPTER XVII\\r', 'CHAPTER XVIII\\r', 'CHAPTER XIX\\r', 'CHAPTER XX\\r', 'CHAPTER XXI\\r', 'CHAPTER XXII\\r', 'CHAPTER XXIII\\r', 'CHAPTER XXIV\\r', 'CHAPTER XXV\\r', 'CHAPTER XXVI\\r', 'CHAPTER XXVII\\r', 'CHAPTER XXVIII\\r', 'CHAPTER XXIX\\r', 'CHAPTER XXX\\r', 'CHAPTER XXXI\\r', 'CHAPTER XXXII\\r', 'CHAPTER XXXIII\\r', 'CHAPTER XXXIV\\r', 'CHAPTER XXXV\\r', 'CHAPTER XXXVI\\r', 'CHAPTER XXXVII\\r', \"End of Project Gutenberg's Mary Minds Her Business, by George Weston\\r\"]\n",
      "INFO:root:Loading Spacy Model en_core_web_trf\n",
      "INFO:root:GPU Enabled: True - Using GPU\n",
      "/home/ben/Projects/story-wrapper/venv/lib/python3.10/site-packages/tqdm/auto.py:21: TqdmWarning: IProgress not found. Please update jupyter and ipywidgets. See https://ipywidgets.readthedocs.io/en/stable/user_install.html\n",
      "  from .autonotebook import tqdm as notebook_tqdm\n",
      "DEBUG:root:Configuring NLP Pipeline and Custom Properties\n"
     ]
    }
   ],
   "source": [
    "# Set logging\n",
    "import logging\n",
    "\n",
    "logging.basicConfig(level=logging.DEBUG)\n",
    "\n",
    "# Set the GPU_ENABLED Flag to True\n",
    "import os\n",
    "os.environ['GPU_ENABLED'] = 'True'\n",
    "print(os.environ['GPU_ENABLED'])  # Should print 'True'\n",
    "\n",
    "from story_wrapper.models.story import Story\n",
    "from story_wrapper.data_loaders.gutenberg import Gutenberg\n",
    "\n",
    "g_corpus = Gutenberg()\n",
    "book = g_corpus.get_book_object(13034)\n",
    "\n",
    "story = Story(book.paragraphs)"
   ]
  },
  {
   "cell_type": "code",
   "execution_count": 2,
   "metadata": {},
   "outputs": [
    {
     "data": {
      "text/plain": [
       "[]"
      ]
     },
     "execution_count": 2,
     "metadata": {},
     "output_type": "execute_result"
    }
   ],
   "source": [
    "story.potential_characters"
   ]
  },
  {
   "cell_type": "code",
   "execution_count": 3,
   "metadata": {},
   "outputs": [],
   "source": [
    "pcs = story.get_potential_characters()"
   ]
  },
  {
   "cell_type": "code",
   "execution_count": 4,
   "metadata": {},
   "outputs": [
    {
     "data": {
      "text/plain": [
       "[<Character - ID: 8792308390909; name: abner spicer>,\n",
       " <Character - ID: 8792308390876; name: ezra babcock>,\n",
       " <Character - ID: 8792308390864; name: josiah spencer>,\n",
       " <Character - ID: 8792308390696; name: martha berger>,\n",
       " <Character - ID: 8792308390756; name: abner spencer>,\n",
       " <Character - ID: 8792308390804; name: barbara fritchie>,\n",
       " <Character - ID: 8792308390528; name: patrick henry>,\n",
       " <Character - ID: 8792308390540; name: angel of death>,\n",
       " <Character - ID: 8792308390840; name: angel of life>,\n",
       " <Character - ID: 8792308390387; name: dauphin of>,\n",
       " <Character - ID: 8792308390405; name: stanley woodward>,\n",
       " <Character - ID: 8792308390828; name: cousin stanley>,\n",
       " <Character - ID: 8792308390399; name: archey forbes>,\n",
       " <Character - ID: 8792308390720; name: bob mcallister>,\n",
       " <Character - ID: 8791882996824; name: mon dieu>,\n",
       " <Character - ID: 8791882925957; name: st. cecilia>,\n",
       " <Character - ID: 8791882925960; name: wally cabot>,\n",
       " <Character - ID: 8791882925963; name: walter cabot>,\n",
       " <Character - ID: 8791882925966; name: will thompson>,\n",
       " <Character - ID: 8791882925969; name: george washington>,\n",
       " <Character - ID: 8791882925972; name: mary spencer>,\n",
       " <Character - ID: 8791882925975; name: m. spencer>,\n",
       " <Character - ID: 8791882925978; name: uncle stanley>,\n",
       " <Character - ID: 8791882925981; name: burdon woodward>,\n",
       " <Character - ID: 8791882925984; name: david copperfield>,\n",
       " <Character - ID: 8791882925987; name: black jack>,\n",
       " <Character - ID: 8791882925990; name: betsey ross>,\n",
       " <Character - ID: 8791882925993; name: joan of arc>,\n",
       " <Character - ID: 8791882925996; name: ma'm maynard>,\n",
       " <Character - ID: 8791882925999; name: james o. macpherson>,\n",
       " <Character - ID: 8791882926002; name: josiah spencers>,\n",
       " <Character - ID: 8791882926005; name: m'sieur beaucaire>,\n",
       " <Character - ID: 8791882926008; name: don juan>,\n",
       " <Character - ID: 8791882926011; name: lieutenant cabot>,\n",
       " <Character - ID: 8791882926014; name: molly pitcher>,\n",
       " <Character - ID: 8791882926017; name: jimmy kelly>,\n",
       " <Character - ID: 8791882926020; name: mary mcmillan>,\n",
       " <Character - ID: 8791882926023; name: james kelly>,\n",
       " <Character - ID: 8791882926026; name: sam reisinger>,\n",
       " <Character - ID: 8791882926029; name: helen cabot>,\n",
       " <Character - ID: 8791882926032; name: nicholas rapieff>,\n",
       " <Character - ID: 8791882926035; name: paul spencer>,\n",
       " <Character - ID: 8791882926038; name: archibald forbes>,\n",
       " <Character - ID: 8791882926041; name: william the thoughtful>]"
      ]
     },
     "execution_count": 4,
     "metadata": {},
     "output_type": "execute_result"
    }
   ],
   "source": [
    "pcs"
   ]
  },
  {
   "cell_type": "code",
   "execution_count": 5,
   "metadata": {},
   "outputs": [],
   "source": [
    "pcs2 = story.process_characters()"
   ]
  },
  {
   "cell_type": "code",
   "execution_count": 7,
   "metadata": {},
   "outputs": [
    {
     "data": {
      "text/plain": [
       "[<Character - ID: 8792308390909; name: abner spicer>,\n",
       " <Character - ID: 8792308390876; name: ezra babcock>,\n",
       " <Character - ID: 8792308390864; name: josiah spencer>,\n",
       " <Character - ID: 8792308390696; name: martha berger>,\n",
       " <Character - ID: 8792308390756; name: abner spencer>,\n",
       " <Character - ID: 8792308390804; name: barbara fritchie>,\n",
       " <Character - ID: 8792308390528; name: patrick henry>,\n",
       " <Character - ID: 8792308390540; name: angel of death>,\n",
       " <Character - ID: 8792308390840; name: angel of life>,\n",
       " <Character - ID: 8792308390387; name: dauphin of>,\n",
       " <Character - ID: 8792308390405; name: stanley woodward>,\n",
       " <Character - ID: 8792308390828; name: cousin stanley>,\n",
       " <Character - ID: 8792308390399; name: archey forbes>,\n",
       " <Character - ID: 8792308390720; name: bob mcallister>,\n",
       " <Character - ID: 8791882996824; name: mon dieu>,\n",
       " <Character - ID: 8791882925957; name: st. cecilia>,\n",
       " <Character - ID: 8791882925963; name: walter cabot>,\n",
       " <Character - ID: 8791882925966; name: will thompson>,\n",
       " <Character - ID: 8791882925969; name: george washington>,\n",
       " <Character - ID: 8791882925972; name: mary spencer>,\n",
       " <Character - ID: 8791882925975; name: m. spencer>,\n",
       " <Character - ID: 8791882925978; name: uncle stanley>,\n",
       " <Character - ID: 8791882925981; name: burdon woodward>,\n",
       " <Character - ID: 8791882925984; name: david copperfield>,\n",
       " <Character - ID: 8791882925987; name: black jack>,\n",
       " <Character - ID: 8791882925990; name: betsey ross>,\n",
       " <Character - ID: 8791882925993; name: joan of arc>,\n",
       " <Character - ID: 8791882925996; name: ma'm maynard>,\n",
       " <Character - ID: 8791882925999; name: james o. macpherson>,\n",
       " <Character - ID: 8791882926002; name: josiah spencers>,\n",
       " <Character - ID: 8791882926005; name: m'sieur beaucaire>,\n",
       " <Character - ID: 8791882926008; name: don juan>,\n",
       " <Character - ID: 8791882926011; name: lieutenant cabot>,\n",
       " <Character - ID: 8791882926014; name: molly pitcher>,\n",
       " <Character - ID: 8791882926020; name: mary mcmillan>,\n",
       " <Character - ID: 8791882926023; name: james kelly>,\n",
       " <Character - ID: 8791882926026; name: sam reisinger>,\n",
       " <Character - ID: 8791882926029; name: helen cabot>,\n",
       " <Character - ID: 8791882926032; name: nicholas rapieff>,\n",
       " <Character - ID: 8791882926035; name: paul spencer>,\n",
       " <Character - ID: 8791882926038; name: archibald forbes>,\n",
       " <Character - ID: 8791882926041; name: william the thoughtful>]"
      ]
     },
     "execution_count": 7,
     "metadata": {},
     "output_type": "execute_result"
    }
   ],
   "source": [
    "pcs2"
   ]
  },
  {
   "cell_type": "code",
   "execution_count": 9,
   "metadata": {},
   "outputs": [
    {
     "data": {
      "text/plain": [
       "dict_keys(['patty', 'cordelia', 'josiah', 'patricia', 'spencers', 'spencer', 'spicers', 'abner spicer', 'ezra babcock', 'josiah spencer', 'pearsons', 'martha berger', 'martha', 'abner spencer', 'sarah', 'barbara fritchie', 'patrick henry', 'basil', 'angel of death', 'angel of life', 'mary', 'dauphin of', 'maynard', \"t'delia\", 'eve', 'woodward', 'stanley woodward', 'cousin stanley', 'stanley', 'burdon', 'chip', 'archey forbes', 'archey', 'spicer', 'helen', 'bob mcallister', 'robert', 'mcallister', \"ma'm\", 'trus', 'mon dieu', 'cutler', 'parsons', 'st. cecilia', 'becky', 'vera', 'marx', 'wally', 'james', 'brad', 'wally cabot', 'paul', 'walter cabot', 'nita', 'juanita', 'garde', 'will thompson', 'punch', 'washington', 'fulton', 'morse', 'columbus', 'george washington', 'ridge', 'shakespeare', 'mary spencer', 'm. spencer', 'matthew', 'mark', 'michael', 'malachi', 'uncle stanley', 'destiny', 'burdon woodward', 'raffles', 'steerforth', 'david copperfield', 'morgan', 'kidd', 'black jack', 'dora', \"d'artagnan\", 'fie', 'jack', 'delia', 'betsey ross', 'betsey', 'joan of arc', 'macpherson', 'mac', \"ma'm maynard\", 'james o. macpherson', 'josiah spencers', 'moses', 'josiahs', \"m'sieur beaucaire\", 'don juan', 'buckingham', 'mars', 'doris', 'rosa', 'lieutenant cabot', 'molls', 'joe', 'edsol', 'uncle', 'haskins', 'strauss', 'kelly', 'repetti', 'nina', 'fanny', 'hutchins', 'molly pitcher', 'forbes', 'jimmy kelly', 'jimmy', 'mary mcmillan', 'james kelly', 'reisinger', 'sam reisinger', 'worth', 'cabot', 'helen cabot', 'marsh', 'nicholas rapieff', 'paul spencer', 'hutch', 'jason', 'lorelei', 'ned', 'archibald forbes', 'judas', 'micawber', 'jingo', 'bill', 'william the thoughtful', 'jove', 'coppelia', 'delibes', 'bols', 'ishmaels', 'hagar', 'batuchka', 'joseph'])"
      ]
     },
     "execution_count": 9,
     "metadata": {},
     "output_type": "execute_result"
    }
   ],
   "source": [
    "obt = story.get_occurrences_by_text()\n",
    "obt.keys()"
   ]
  },
  {
   "cell_type": "markdown",
   "metadata": {},
   "source": [
    "Now we can get the single token names. Then we can look for matches with firstname or aliases. If there is a single single token <> full name match we can merge the occurrences of the single token with the multi-token character."
   ]
  },
  {
   "cell_type": "code",
   "execution_count": 10,
   "metadata": {},
   "outputs": [],
   "source": [
    "    def get_single_token_candidates(self) -> list:\n",
    "        \"\"\"Return a list of strings that have multiple tokens.\"\"\"\n",
    "        return [\n",
    "            k for k, v in self.get_occurrences_by_text().items()\n",
    "            if len(v[0].span) == 1\n",
    "        ]"
   ]
  },
  {
   "cell_type": "code",
   "execution_count": 12,
   "metadata": {},
   "outputs": [
    {
     "name": "stdout",
     "output_type": "stream",
     "text": [
      "['patty', 'cordelia', 'josiah', 'patricia', 'spencers', 'spencer', 'spicers', 'pearsons', 'martha', 'sarah', 'basil', 'mary', 'maynard', \"t'delia\", 'eve', 'woodward', 'stanley', 'burdon', 'chip', 'archey', 'spicer', 'helen', 'robert', 'mcallister', \"ma'm\", 'trus', 'cutler', 'parsons', 'becky', 'vera', 'marx', 'wally', 'james', 'brad', 'paul', 'nita', 'juanita', 'garde', 'punch', 'washington', 'fulton', 'morse', 'columbus', 'ridge', 'shakespeare', 'matthew', 'mark', 'michael', 'malachi', 'destiny', 'raffles', 'steerforth', 'morgan', 'kidd', 'dora', \"d'artagnan\", 'fie', 'jack', 'delia', 'betsey', 'macpherson', 'mac', 'moses', 'josiahs', 'buckingham', 'mars', 'doris', 'rosa', 'molls', 'joe', 'edsol', 'uncle', 'haskins', 'strauss', 'kelly', 'repetti', 'nina', 'fanny', 'hutchins', 'forbes', 'jimmy', 'reisinger', 'worth', 'cabot', 'marsh', 'hutch', 'jason', 'lorelei', 'ned', 'judas', 'micawber', 'jingo', 'bill', 'jove', 'coppelia', 'delibes', 'bols', 'ishmaels', 'hagar', 'batuchka', 'joseph']\n"
     ]
    }
   ],
   "source": [
    "stc = get_single_token_candidates(story); print(stc)"
   ]
  },
  {
   "cell_type": "markdown",
   "metadata": {},
   "source": [
    "You also have potential groups: \"spencers\" may be \"spencer's\" or \"the spencers\" - as in a family."
   ]
  },
  {
   "cell_type": "code",
   "execution_count": 14,
   "metadata": {},
   "outputs": [],
   "source": [
    "from nicknames import NickNamer\n",
    "\n",
    "nn = NickNamer()"
   ]
  },
  {
   "cell_type": "code",
   "execution_count": 15,
   "metadata": {},
   "outputs": [
    {
     "data": {
      "text/plain": [
       "{'pat', 'patsy', 'patti', 'patty', 'tricia', 'trish'}"
      ]
     },
     "execution_count": 15,
     "metadata": {},
     "output_type": "execute_result"
    }
   ],
   "source": [
    "nn.nicknames_of('Patricia')"
   ]
  },
  {
   "cell_type": "code",
   "execution_count": 20,
   "metadata": {},
   "outputs": [
    {
     "data": {
      "text/plain": [
       "{'marty', 'mat', 'mattie', 'patsy', 'patty'}"
      ]
     },
     "execution_count": 20,
     "metadata": {},
     "output_type": "execute_result"
    }
   ],
   "source": [
    "nn.nicknames_of('Martha')"
   ]
  },
  {
   "cell_type": "code",
   "execution_count": 22,
   "metadata": {},
   "outputs": [
    {
     "name": "stdout",
     "output_type": "stream",
     "text": [
      "<Character - ID: 8792308390864; name: josiah spencer> ['josiah']\n",
      "<Character - ID: 8792308390696; name: martha berger> ['patty', 'martha']\n",
      "<Character - ID: 8792308390405; name: stanley woodward> ['stanley']\n",
      "<Character - ID: 8792308390399; name: archey forbes> ['archey']\n",
      "<Character - ID: 8792308390720; name: bob mcallister> ['robert']\n",
      "<Character - ID: 8791882925963; name: walter cabot> ['wally']\n",
      "<Character - ID: 8791882925966; name: will thompson> ['bill']\n",
      "<Character - ID: 8791882925972; name: mary spencer> ['mary']\n",
      "<Character - ID: 8791882925978; name: uncle stanley> ['uncle']\n",
      "<Character - ID: 8791882925981; name: burdon woodward> ['burdon']\n",
      "<Character - ID: 8791882925990; name: betsey ross> ['betsey']\n",
      "<Character - ID: 8791882925996; name: ma'm maynard> [\"ma'm\"]\n",
      "<Character - ID: 8791882925999; name: james o. macpherson> ['james', 'jimmy']\n",
      "<Character - ID: 8791882926002; name: josiah spencers> ['josiah']\n",
      "<Character - ID: 8791882926020; name: mary mcmillan> ['mary']\n",
      "<Character - ID: 8791882926023; name: james kelly> ['james', 'jimmy']\n",
      "<Character - ID: 8791882926029; name: helen cabot> ['helen']\n",
      "<Character - ID: 8791882926035; name: paul spencer> ['paul']\n",
      "<Character - ID: 8791882926041; name: william the thoughtful> ['bill']\n",
      "\n",
      "\n",
      "--------------------\n",
      "\n",
      "\n",
      "josiah ['<Character - ID: 8792308390864; name: josiah spencer>', '<Character - ID: 8791882926002; name: josiah spencers>']\n",
      "patty ['<Character - ID: 8792308390696; name: martha berger>']\n",
      "martha ['<Character - ID: 8792308390696; name: martha berger>']\n",
      "stanley ['<Character - ID: 8792308390405; name: stanley woodward>']\n",
      "archey ['<Character - ID: 8792308390399; name: archey forbes>']\n",
      "robert ['<Character - ID: 8792308390720; name: bob mcallister>']\n",
      "wally ['<Character - ID: 8791882925963; name: walter cabot>']\n",
      "bill ['<Character - ID: 8791882925966; name: will thompson>', '<Character - ID: 8791882926041; name: william the thoughtful>']\n",
      "mary ['<Character - ID: 8791882925972; name: mary spencer>', '<Character - ID: 8791882926020; name: mary mcmillan>']\n",
      "uncle ['<Character - ID: 8791882925978; name: uncle stanley>']\n",
      "burdon ['<Character - ID: 8791882925981; name: burdon woodward>']\n",
      "betsey ['<Character - ID: 8791882925990; name: betsey ross>']\n",
      "ma'm [\"<Character - ID: 8791882925996; name: ma'm maynard>\"]\n",
      "james ['<Character - ID: 8791882925999; name: james o. macpherson>', '<Character - ID: 8791882926023; name: james kelly>']\n",
      "jimmy ['<Character - ID: 8791882925999; name: james o. macpherson>', '<Character - ID: 8791882926023; name: james kelly>']\n",
      "helen ['<Character - ID: 8791882926029; name: helen cabot>']\n",
      "paul ['<Character - ID: 8791882926035; name: paul spencer>']\n"
     ]
    }
   ],
   "source": [
    "from collections import Counter, defaultdict\n",
    "\n",
    "potential_matches = defaultdict(list)\n",
    "backward_matches = defaultdict(list)\n",
    "for character in story.potential_characters:\n",
    "    for single_name in stc:\n",
    "        if single_name == character.firstname or single_name in nn.nicknames_of(character.firstname):\n",
    "            potential_matches[str(character)].append(single_name)\n",
    "            backward_matches[single_name].append(str(character))\n",
    "\n",
    "for k, m in potential_matches.items():\n",
    "    print(k, m)\n",
    "print(\"\\n\\n--------------------\\n\\n\")\n",
    "for k, m in backward_matches.items():\n",
    "    print(k, m)"
   ]
  },
  {
   "cell_type": "markdown",
   "metadata": {},
   "source": [
    "So we do - if there is only a single match forwards and backwards, we can add the occurrences of the single name to the Character object?\n",
    "\n",
    "We also want a list of processed keys of get_occurrences_by_text()....\n",
    "\n",
    "We can also do something similar for the last name but with no nickname match...."
   ]
  },
  {
   "cell_type": "code",
   "execution_count": 23,
   "metadata": {},
   "outputs": [
    {
     "name": "stdout",
     "output_type": "stream",
     "text": [
      "<Character - ID: 8792308390909; name: abner spicer> ['spicer']\n",
      "<Character - ID: 8792308390864; name: josiah spencer> ['spencer']\n",
      "<Character - ID: 8792308390756; name: abner spencer> ['spencer']\n",
      "<Character - ID: 8792308390405; name: stanley woodward> ['woodward']\n",
      "<Character - ID: 8792308390828; name: cousin stanley> ['stanley']\n",
      "<Character - ID: 8792308390399; name: archey forbes> ['forbes']\n",
      "<Character - ID: 8792308390720; name: bob mcallister> ['mcallister']\n",
      "<Character - ID: 8791882925963; name: walter cabot> ['cabot']\n",
      "<Character - ID: 8791882925969; name: george washington> ['washington']\n",
      "<Character - ID: 8791882925972; name: mary spencer> ['spencer']\n",
      "<Character - ID: 8791882925975; name: m. spencer> ['spencer']\n",
      "<Character - ID: 8791882925978; name: uncle stanley> ['stanley']\n",
      "<Character - ID: 8791882925981; name: burdon woodward> ['woodward']\n",
      "<Character - ID: 8791882925987; name: black jack> ['jack']\n",
      "<Character - ID: 8791882925996; name: ma'm maynard> ['maynard']\n",
      "<Character - ID: 8791882925999; name: james o. macpherson> ['macpherson']\n",
      "<Character - ID: 8791882926002; name: josiah spencers> ['spencers']\n",
      "<Character - ID: 8791882926011; name: lieutenant cabot> ['cabot']\n",
      "<Character - ID: 8791882926023; name: james kelly> ['kelly']\n",
      "<Character - ID: 8791882926026; name: sam reisinger> ['reisinger']\n",
      "<Character - ID: 8791882926029; name: helen cabot> ['cabot']\n",
      "<Character - ID: 8791882926035; name: paul spencer> ['spencer']\n",
      "<Character - ID: 8791882926038; name: archibald forbes> ['forbes']\n",
      "\n",
      "\n",
      "--------------------\n",
      "\n",
      "\n",
      "spicer ['<Character - ID: 8792308390909; name: abner spicer>']\n",
      "spencer ['<Character - ID: 8792308390864; name: josiah spencer>', '<Character - ID: 8792308390756; name: abner spencer>', '<Character - ID: 8791882925972; name: mary spencer>', '<Character - ID: 8791882925975; name: m. spencer>', '<Character - ID: 8791882926035; name: paul spencer>']\n",
      "woodward ['<Character - ID: 8792308390405; name: stanley woodward>', '<Character - ID: 8791882925981; name: burdon woodward>']\n",
      "stanley ['<Character - ID: 8792308390828; name: cousin stanley>', '<Character - ID: 8791882925978; name: uncle stanley>']\n",
      "forbes ['<Character - ID: 8792308390399; name: archey forbes>', '<Character - ID: 8791882926038; name: archibald forbes>']\n",
      "mcallister ['<Character - ID: 8792308390720; name: bob mcallister>']\n",
      "cabot ['<Character - ID: 8791882925963; name: walter cabot>', '<Character - ID: 8791882926011; name: lieutenant cabot>', '<Character - ID: 8791882926029; name: helen cabot>']\n",
      "washington ['<Character - ID: 8791882925969; name: george washington>']\n",
      "jack ['<Character - ID: 8791882925987; name: black jack>']\n",
      "maynard [\"<Character - ID: 8791882925996; name: ma'm maynard>\"]\n",
      "macpherson ['<Character - ID: 8791882925999; name: james o. macpherson>']\n",
      "spencers ['<Character - ID: 8791882926002; name: josiah spencers>']\n",
      "kelly ['<Character - ID: 8791882926023; name: james kelly>']\n",
      "reisinger ['<Character - ID: 8791882926026; name: sam reisinger>']\n"
     ]
    }
   ],
   "source": [
    "potential_matches = defaultdict(list)\n",
    "backward_matches = defaultdict(list)\n",
    "for character in story.potential_characters:\n",
    "    for single_name in stc:\n",
    "        if single_name == character.surname:\n",
    "            potential_matches[str(character)].append(single_name)\n",
    "            backward_matches[single_name].append(str(character))\n",
    "\n",
    "for k, m in potential_matches.items():\n",
    "    print(k, m)\n",
    "print(\"\\n\\n--------------------\\n\\n\")\n",
    "for k, m in backward_matches.items():\n",
    "    print(k, m)"
   ]
  },
  {
   "cell_type": "markdown",
   "metadata": {},
   "source": [
    "By this we can see the Kelly refers to the surname not first name as there is no first name kelly but there is a lastname kelly."
   ]
  },
  {
   "cell_type": "code",
   "execution_count": 24,
   "metadata": {},
   "outputs": [
    {
     "name": "stdout",
     "output_type": "stream",
     "text": [
      "<Character - ID: 8792308390909; name: abner spicer> ['spicer']\n",
      "<Character - ID: 8792308390864; name: josiah spencer> ['josiah', 'spencer']\n",
      "<Character - ID: 8792308390696; name: martha berger> ['patty', 'martha']\n",
      "<Character - ID: 8792308390756; name: abner spencer> ['spencer']\n",
      "<Character - ID: 8792308390405; name: stanley woodward> ['woodward', 'stanley']\n",
      "<Character - ID: 8792308390828; name: cousin stanley> ['stanley']\n",
      "<Character - ID: 8792308390399; name: archey forbes> ['archey', 'forbes']\n",
      "<Character - ID: 8792308390720; name: bob mcallister> ['robert', 'mcallister']\n",
      "<Character - ID: 8791882925963; name: walter cabot> ['wally', 'cabot']\n",
      "<Character - ID: 8791882925966; name: will thompson> ['bill']\n",
      "<Character - ID: 8791882925969; name: george washington> ['washington']\n",
      "<Character - ID: 8791882925972; name: mary spencer> ['spencer', 'mary']\n",
      "<Character - ID: 8791882925975; name: m. spencer> ['spencer']\n",
      "<Character - ID: 8791882925978; name: uncle stanley> ['stanley', 'uncle']\n",
      "<Character - ID: 8791882925981; name: burdon woodward> ['woodward', 'burdon']\n",
      "<Character - ID: 8791882925987; name: black jack> ['jack']\n",
      "<Character - ID: 8791882925990; name: betsey ross> ['betsey']\n",
      "<Character - ID: 8791882925996; name: ma'm maynard> ['maynard', \"ma'm\"]\n",
      "<Character - ID: 8791882925999; name: james o. macpherson> ['james', 'macpherson', 'jimmy']\n",
      "<Character - ID: 8791882926002; name: josiah spencers> ['josiah', 'spencers']\n",
      "<Character - ID: 8791882926011; name: lieutenant cabot> ['cabot']\n",
      "<Character - ID: 8791882926020; name: mary mcmillan> ['mary']\n",
      "<Character - ID: 8791882926023; name: james kelly> ['james', 'kelly', 'jimmy']\n",
      "<Character - ID: 8791882926026; name: sam reisinger> ['reisinger']\n",
      "<Character - ID: 8791882926029; name: helen cabot> ['helen', 'cabot']\n",
      "<Character - ID: 8791882926035; name: paul spencer> ['spencer', 'paul']\n",
      "<Character - ID: 8791882926038; name: archibald forbes> ['forbes']\n",
      "<Character - ID: 8791882926041; name: william the thoughtful> ['bill']\n",
      "\n",
      "\n",
      "--------------------\n",
      "\n",
      "\n",
      "spicer ['<Character - ID: 8792308390909; name: abner spicer>']\n",
      "josiah ['<Character - ID: 8792308390864; name: josiah spencer>', '<Character - ID: 8791882926002; name: josiah spencers>']\n",
      "spencer ['<Character - ID: 8792308390864; name: josiah spencer>', '<Character - ID: 8792308390756; name: abner spencer>', '<Character - ID: 8791882925972; name: mary spencer>', '<Character - ID: 8791882925975; name: m. spencer>', '<Character - ID: 8791882926035; name: paul spencer>']\n",
      "patty ['<Character - ID: 8792308390696; name: martha berger>']\n",
      "martha ['<Character - ID: 8792308390696; name: martha berger>']\n",
      "woodward ['<Character - ID: 8792308390405; name: stanley woodward>', '<Character - ID: 8791882925981; name: burdon woodward>']\n",
      "stanley ['<Character - ID: 8792308390405; name: stanley woodward>', '<Character - ID: 8792308390828; name: cousin stanley>', '<Character - ID: 8791882925978; name: uncle stanley>']\n",
      "archey ['<Character - ID: 8792308390399; name: archey forbes>']\n",
      "forbes ['<Character - ID: 8792308390399; name: archey forbes>', '<Character - ID: 8791882926038; name: archibald forbes>']\n",
      "robert ['<Character - ID: 8792308390720; name: bob mcallister>']\n",
      "mcallister ['<Character - ID: 8792308390720; name: bob mcallister>']\n",
      "wally ['<Character - ID: 8791882925963; name: walter cabot>']\n",
      "cabot ['<Character - ID: 8791882925963; name: walter cabot>', '<Character - ID: 8791882926011; name: lieutenant cabot>', '<Character - ID: 8791882926029; name: helen cabot>']\n",
      "bill ['<Character - ID: 8791882925966; name: will thompson>', '<Character - ID: 8791882926041; name: william the thoughtful>']\n",
      "washington ['<Character - ID: 8791882925969; name: george washington>']\n",
      "mary ['<Character - ID: 8791882925972; name: mary spencer>', '<Character - ID: 8791882926020; name: mary mcmillan>']\n",
      "uncle ['<Character - ID: 8791882925978; name: uncle stanley>']\n",
      "burdon ['<Character - ID: 8791882925981; name: burdon woodward>']\n",
      "jack ['<Character - ID: 8791882925987; name: black jack>']\n",
      "betsey ['<Character - ID: 8791882925990; name: betsey ross>']\n",
      "maynard [\"<Character - ID: 8791882925996; name: ma'm maynard>\"]\n",
      "ma'm [\"<Character - ID: 8791882925996; name: ma'm maynard>\"]\n",
      "james ['<Character - ID: 8791882925999; name: james o. macpherson>', '<Character - ID: 8791882926023; name: james kelly>']\n",
      "macpherson ['<Character - ID: 8791882925999; name: james o. macpherson>']\n",
      "jimmy ['<Character - ID: 8791882925999; name: james o. macpherson>', '<Character - ID: 8791882926023; name: james kelly>']\n",
      "spencers ['<Character - ID: 8791882926002; name: josiah spencers>']\n",
      "kelly ['<Character - ID: 8791882926023; name: james kelly>']\n",
      "reisinger ['<Character - ID: 8791882926026; name: sam reisinger>']\n",
      "helen ['<Character - ID: 8791882926029; name: helen cabot>']\n",
      "paul ['<Character - ID: 8791882926035; name: paul spencer>']\n"
     ]
    }
   ],
   "source": [
    "potential_matches = defaultdict(list)\n",
    "backward_matches = defaultdict(list)\n",
    "for character in story.potential_characters:\n",
    "    for single_name in stc:\n",
    "        if single_name == character.firstname or single_name in nn.nicknames_of(character.firstname):\n",
    "            potential_matches[str(character)].append(single_name)\n",
    "            backward_matches[single_name].append(str(character))\n",
    "            \n",
    "        if single_name == character.surname:\n",
    "            potential_matches[str(character)].append(single_name)\n",
    "            backward_matches[single_name].append(str(character))\n",
    "\n",
    "for k, m in potential_matches.items():\n",
    "    print(k, m)\n",
    "print(\"\\n\\n--------------------\\n\\n\")\n",
    "for k, m in backward_matches.items():\n",
    "    print(k, m)"
   ]
  },
  {
   "cell_type": "code",
   "execution_count": 25,
   "metadata": {},
   "outputs": [],
   "source": [
    "from collections import defaultdict\n",
    "from typing import List\n",
    "\n",
    "def match_single_token_first_names(story, stc: List[str], nn) -> None:\n",
    "    \"\"\"Match single token names with existing characters based on first names and nicknames.\"\"\"\n",
    "    potential_matches = defaultdict(list)\n",
    "    backward_matches = defaultdict(list)\n",
    "    \n",
    "    for character in story.potential_characters:\n",
    "        for single_name in stc:\n",
    "            if single_name == character.firstname or single_name in nn.nicknames_of(character.firstname):\n",
    "                potential_matches[str(character)].append(single_name)\n",
    "                backward_matches[single_name].append(str(character))\n",
    "\n",
    "    merge_occurrences(potential_matches, backward_matches, story)\n",
    "\n",
    "def match_single_token_surnames(story, stc: List[str]) -> None:\n",
    "    \"\"\"Match single token names with existing characters based on surnames.\"\"\"\n",
    "    potential_matches = defaultdict(list)\n",
    "    backward_matches = defaultdict(list)\n",
    "    \n",
    "    for character in story.potential_characters:\n",
    "        for single_name in stc:\n",
    "            if single_name == character.surname:\n",
    "                potential_matches[str(character)].append(single_name)\n",
    "                backward_matches[single_name].append(str(character))\n",
    "\n",
    "    merge_occurrences(potential_matches, backward_matches, story)\n",
    "\n",
    "def merge_occurrences(potential_matches, backward_matches, story):\n",
    "    \"\"\"Merge occurrences if there's only one match in both forward and backward matches.\"\"\"\n",
    "    for char_str, single_names in potential_matches.items():\n",
    "        for single_name in single_names:\n",
    "            if len(potential_matches[char_str]) == 1 and len(backward_matches[single_name]) == 1:\n",
    "                character = [char for char in story.potential_characters if str(char) == char_str][0]\n",
    "                single_occurrences = story.get_occurrences_by_text()[single_name]\n",
    "                character.add_occurrences(single_occurrences)\n",
    "                # Mark single_name as processed, if you need to (add code here)\n",
    "                # ...\n"
   ]
  },
  {
   "cell_type": "code",
   "execution_count": null,
   "metadata": {},
   "outputs": [],
   "source": []
  }
 ],
 "metadata": {
  "kernelspec": {
   "display_name": "story-wrapper",
   "language": "python",
   "name": "story-wrapper"
  },
  "language_info": {
   "codemirror_mode": {
    "name": "ipython",
    "version": 3
   },
   "file_extension": ".py",
   "mimetype": "text/x-python",
   "name": "python",
   "nbconvert_exporter": "python",
   "pygments_lexer": "ipython3",
   "version": "3.10.12"
  }
 },
 "nbformat": 4,
 "nbformat_minor": 4
}
