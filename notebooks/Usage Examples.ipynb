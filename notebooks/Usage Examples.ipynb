{
 "cells": [
  {
   "cell_type": "code",
   "execution_count": 4,
   "id": "882bd514",
   "metadata": {},
   "outputs": [],
   "source": [
    "# Add src folder to path\n",
    "import os\n",
    "# Change path here to project directory\n",
    "import sys; sys.path.insert(0, os.path.expanduser(\"~/Projects/story-wrapper/src\"))\n",
    "\n",
    "# Set logging\n",
    "import logging\n",
    "\n",
    "logging.basicConfig(level=logging.DEBUG)"
   ]
  },
  {
   "cell_type": "code",
   "execution_count": 5,
   "id": "77162be2",
   "metadata": {},
   "outputs": [],
   "source": [
    "from story_wrapper.models.story import Story\n",
    "from story_wrapper.data_loaders.book import Book"
   ]
  },
  {
   "cell_type": "code",
   "execution_count": null,
   "id": "d4f6ed55",
   "metadata": {},
   "outputs": [],
   "source": [
    "book = Book(13034)"
   ]
  },
  {
   "cell_type": "code",
   "execution_count": null,
   "id": "0a593945",
   "metadata": {},
   "outputs": [],
   "source": []
  }
 ],
 "metadata": {
  "kernelspec": {
   "display_name": "Python 3",
   "language": "python",
   "name": "python3"
  },
  "language_info": {
   "codemirror_mode": {
    "name": "ipython",
    "version": 3
   },
   "file_extension": ".py",
   "mimetype": "text/x-python",
   "name": "python",
   "nbconvert_exporter": "python",
   "pygments_lexer": "ipython3",
   "version": "3.9.5"
  }
 },
 "nbformat": 4,
 "nbformat_minor": 5
}
