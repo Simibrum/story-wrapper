{
 "cells": [
  {
   "cell_type": "markdown",
   "metadata": {},
   "source": [
    "### Initial Configuration"
   ]
  },
  {
   "cell_type": "code",
   "execution_count": 1,
   "metadata": {},
   "outputs": [
    {
     "name": "stdout",
     "output_type": "stream",
     "text": [
      "True\n"
     ]
    }
   ],
   "source": [
    "# Set logging\n",
    "import logging\n",
    "\n",
    "logging.basicConfig(level=logging.DEBUG)\n",
    "\n",
    "# Set the GPU_ENABLED Flag to True\n",
    "import os\n",
    "os.environ['GPU_ENABLED'] = 'True'\n",
    "print(os.environ['GPU_ENABLED'])  # Should print 'True'"
   ]
  },
  {
   "cell_type": "markdown",
   "metadata": {},
   "source": [
    "### Load a Story"
   ]
  },
  {
   "cell_type": "code",
   "execution_count": 2,
   "metadata": {},
   "outputs": [],
   "source": [
    "from story_wrapper.models.story import Story\n",
    "from story_wrapper.data_loaders.gutenberg import Gutenberg\n",
    "from story_wrapper.config_spacy import nlp_service"
   ]
  },
  {
   "cell_type": "code",
   "execution_count": 3,
   "metadata": {},
   "outputs": [
    {
     "name": "stderr",
     "output_type": "stream",
     "text": [
      "INFO:root:Indexing Gutenberg corpus.\n",
      "INFO:root:Reading metadata from /home/ben/Projects/story-wrapper/src/story_wrapper/data_loaders/indexes/md.pickle.gz\n",
      "INFO:root:Indexing complete.\n",
      "INFO:root:Number of books in Gutenberg corpus: 69478\n",
      " at line 8197 line: End of Project Gutenberg's Mary Minds Her Business, by George Weston\n",
      "DEBUG:root:TOC locations to be deleted: []\n",
      "INFO:root:Heading locations: [292, 408, 512, 625, 942, 1108, 1255, 1343, 1434, 1643, 1896, 2151, 2367, 2539, 2676, 2937, 3082, 3212, 3416, 3516, 3717, 4010, 4140, 4388, 4616, 5364, 5534, 6361, 6419, 6807, 6973, 7201, 7349, 7670, 7815, 7980, 8086, 8197]\n",
      "INFO:root:Headings: ['CHAPTER I\\r', 'CHAPTER II\\r', 'CHAPTER III\\r', 'CHAPTER IV\\r', 'CHAPTER V\\r', 'CHAPTER VI\\r', 'CHAPTER VII\\r', 'CHAPTER VIII\\r', 'CHAPTER IX\\r', 'CHAPTER X\\r', 'CHAPTER XI\\r', 'CHAPTER XII\\r', 'CHAPTER XIII\\r', 'CHAPTER XIV\\r', 'CHAPTER XV\\r', 'CHAPTER XVI\\r', 'CHAPTER XVII\\r', 'CHAPTER XVIII\\r', 'CHAPTER XIX\\r', 'CHAPTER XX\\r', 'CHAPTER XXI\\r', 'CHAPTER XXII\\r', 'CHAPTER XXIII\\r', 'CHAPTER XXIV\\r', 'CHAPTER XXV\\r', 'CHAPTER XXVI\\r', 'CHAPTER XXVII\\r', 'CHAPTER XXVIII\\r', 'CHAPTER XXIX\\r', 'CHAPTER XXX\\r', 'CHAPTER XXXI\\r', 'CHAPTER XXXII\\r', 'CHAPTER XXXIII\\r', 'CHAPTER XXXIV\\r', 'CHAPTER XXXV\\r', 'CHAPTER XXXVI\\r', 'CHAPTER XXXVII\\r', \"End of Project Gutenberg's Mary Minds Her Business, by George Weston\\r\"]\n"
     ]
    }
   ],
   "source": [
    "g_corpus = Gutenberg()\n",
    "book = g_corpus.get_book_object(13034)"
   ]
  },
  {
   "cell_type": "code",
   "execution_count": 4,
   "metadata": {},
   "outputs": [
    {
     "name": "stderr",
     "output_type": "stream",
     "text": [
      "INFO:root:Loading Spacy Model en_core_web_trf\n",
      "INFO:root:GPU Enabled: True - Using GPU\n",
      "/home/ben/Projects/story-wrapper/venv/lib/python3.10/site-packages/tqdm/auto.py:21: TqdmWarning: IProgress not found. Please update jupyter and ipywidgets. See https://ipywidgets.readthedocs.io/en/stable/user_install.html\n",
      "  from .autonotebook import tqdm as notebook_tqdm\n",
      "DEBUG:root:Configuring NLP Pipeline and Custom Properties\n"
     ]
    }
   ],
   "source": [
    "story = Story(book.paragraphs)"
   ]
  },
  {
   "cell_type": "markdown",
   "metadata": {},
   "source": [
    "## Characters"
   ]
  },
  {
   "cell_type": "code",
   "execution_count": 5,
   "metadata": {},
   "outputs": [
    {
     "data": {
      "text/plain": [
       "['Patty',\n",
       " 'Cordelia',\n",
       " 'Josiah',\n",
       " 'Patricia',\n",
       " 'Cordelia',\n",
       " 'Spencers',\n",
       " 'Cordelia',\n",
       " 'Cordelia',\n",
       " 'Spencer',\n",
       " 'Cordelia',\n",
       " 'Patty',\n",
       " 'Josiah',\n",
       " 'Spicers',\n",
       " 'Abner Spicer',\n",
       " 'an Ezra Babcock',\n",
       " 'Josiah Spencer',\n",
       " 'Josiah',\n",
       " 'Cordelia',\n",
       " 'Patty',\n",
       " 'Josiah',\n",
       " 'Cordelia',\n",
       " 'Pearsons',\n",
       " 'Martha Berger',\n",
       " 'Pearsons',\n",
       " 'Cordelia',\n",
       " 'Patty',\n",
       " 'Martha',\n",
       " 'Cordelia',\n",
       " 'Martha',\n",
       " 'Patty',\n",
       " 'Cordelia',\n",
       " 'Martha',\n",
       " 'Josiah',\n",
       " 'Martha',\n",
       " 'Martha',\n",
       " 'Cordelia',\n",
       " 'Martha',\n",
       " 'Spencers',\n",
       " 'Cordelia',\n",
       " 'Josiah',\n",
       " 'Abner Spencer',\n",
       " 'Ezra Babcock',\n",
       " 'Josiah Spencer',\n",
       " 'Cordelia',\n",
       " 'Patty',\n",
       " 'Spencer',\n",
       " 'Josiah',\n",
       " 'Josiah',\n",
       " 'Josiah',\n",
       " 'Spencer',\n",
       " 'Martha',\n",
       " 'Cordelia',\n",
       " 'Patty',\n",
       " 'Josiah',\n",
       " 'Patty',\n",
       " 'Sarah',\n",
       " 'Sarah',\n",
       " 'Martha',\n",
       " 'Martha',\n",
       " 'Cordelia',\n",
       " 'Martha',\n",
       " 'Patty',\n",
       " 'Cordelia',\n",
       " 'Martha',\n",
       " 'Patty',\n",
       " 'Martha',\n",
       " 'Cordelia',\n",
       " 'Barbara Fritchie',\n",
       " 'Patrick Henry',\n",
       " 'Josiah',\n",
       " 'Cordelia',\n",
       " 'Patty',\n",
       " 'Cordelia',\n",
       " 'Patty',\n",
       " 'Patty',\n",
       " 'Cordelia',\n",
       " 'Cordelia',\n",
       " 'Patty',\n",
       " 'Josiah',\n",
       " 'Cordelia',\n",
       " 'Basil',\n",
       " 'Cordelia',\n",
       " 'Cordelia',\n",
       " 'Patricia',\n",
       " 'Martha',\n",
       " 'Martha',\n",
       " 'Josiah',\n",
       " 'Martha',\n",
       " 'Martha',\n",
       " 'Martha',\n",
       " 'the Angel of Death',\n",
       " 'the Angel of Life',\n",
       " 'Cordelia',\n",
       " 'Josiah',\n",
       " 'Josiah',\n",
       " 'Cordelia',\n",
       " 'Patty',\n",
       " 'Mary',\n",
       " 'Mary',\n",
       " 'Cordelia',\n",
       " 'Mary',\n",
       " 'Cordelia',\n",
       " 'Patty',\n",
       " 'Mary',\n",
       " 'Mary',\n",
       " 'Cordelia',\n",
       " 'Mary',\n",
       " 'Patty',\n",
       " 'Cordelia',\n",
       " 'Patty',\n",
       " 'Patty',\n",
       " 'Cordelia',\n",
       " 'Mary',\n",
       " 'Mary',\n",
       " 'Mary',\n",
       " 'Cordelia',\n",
       " 'Patty',\n",
       " 'Cordelia',\n",
       " 'Patty',\n",
       " 'the Dauphin of',\n",
       " 'Patty',\n",
       " 'Mary',\n",
       " 'Cordelia',\n",
       " 'Patty',\n",
       " 'Maynard',\n",
       " 'Mary',\n",
       " 'Cordelia',\n",
       " 'Patty',\n",
       " 'Cordelia',\n",
       " 'Maynard',\n",
       " 'Mary',\n",
       " 'Maynard',\n",
       " 'Mary',\n",
       " \"T'delia\",\n",
       " 'Patty',\n",
       " 'Patty',\n",
       " 'Mary',\n",
       " 'Josiah',\n",
       " 'Mary',\n",
       " 'Cordelia',\n",
       " 'Martha',\n",
       " 'Patty',\n",
       " 'Mary',\n",
       " 'Mary',\n",
       " 'Patty',\n",
       " 'Mary',\n",
       " 'Maynard',\n",
       " 'Mary',\n",
       " 'Josiah',\n",
       " 'Mary',\n",
       " 'Josiah',\n",
       " 'Maynard',\n",
       " 'Josiah',\n",
       " 'Mary',\n",
       " 'Mary',\n",
       " 'Josiah',\n",
       " 'Mary',\n",
       " 'Mary',\n",
       " 'Josiah',\n",
       " 'Mary',\n",
       " 'Martha',\n",
       " 'Eve',\n",
       " 'Josiah',\n",
       " 'Spencers',\n",
       " 'Spencer',\n",
       " 'Mary',\n",
       " 'Mary',\n",
       " 'Woodward',\n",
       " 'Josiah',\n",
       " 'Stanley Woodward',\n",
       " 'Josiah',\n",
       " 'Cousin Stanley',\n",
       " 'Martha',\n",
       " 'Josiah',\n",
       " 'Mary',\n",
       " 'Mary',\n",
       " 'Josiah',\n",
       " 'Spencer',\n",
       " 'Cousin Stanley',\n",
       " 'Mary',\n",
       " 'Stanley',\n",
       " 'Josiah',\n",
       " 'Stanley',\n",
       " 'Stanley Woodward',\n",
       " 'Mary',\n",
       " 'Josiah',\n",
       " 'Stanley',\n",
       " 'Mary',\n",
       " 'Josiah',\n",
       " 'Mary',\n",
       " 'Josiah',\n",
       " 'Stanley',\n",
       " 'Josiah',\n",
       " 'Mary',\n",
       " 'Stanley',\n",
       " 'Josiah',\n",
       " 'Mary',\n",
       " 'Josiah',\n",
       " 'Stanley',\n",
       " 'Burdon',\n",
       " 'Josiah',\n",
       " 'Mary',\n",
       " 'Burdon',\n",
       " 'Josiah',\n",
       " 'Josiah',\n",
       " 'Mary',\n",
       " 'Josiah',\n",
       " 'Chip',\n",
       " 'Mary',\n",
       " 'Josiah',\n",
       " 'Archey Forbes',\n",
       " 'Archey',\n",
       " 'Mary',\n",
       " 'Patty',\n",
       " 'Spencer',\n",
       " 'Mary',\n",
       " 'Cordelia',\n",
       " 'Cordelia',\n",
       " 'Cordelia',\n",
       " 'Patty',\n",
       " 'Patty',\n",
       " 'Mary',\n",
       " 'Spencers',\n",
       " 'Spicer',\n",
       " 'Patty',\n",
       " 'Mary',\n",
       " 'Patty',\n",
       " 'Patty',\n",
       " 'Helen',\n",
       " 'Mary',\n",
       " 'Helen',\n",
       " 'Cordelia',\n",
       " 'Mary',\n",
       " 'Cordelia',\n",
       " 'Patty',\n",
       " 'Patty',\n",
       " 'Helen',\n",
       " 'Cordelia',\n",
       " 'Cordelia',\n",
       " 'Cordelia',\n",
       " 'Helen',\n",
       " 'Mary',\n",
       " 'Helen',\n",
       " 'Mary',\n",
       " 'Helen',\n",
       " 'Bob McAllister',\n",
       " 'Robert',\n",
       " 'Helen',\n",
       " 'Mary',\n",
       " 'McAllister',\n",
       " 'Mary',\n",
       " 'Helen',\n",
       " 'Helen',\n",
       " 'Mary',\n",
       " 'Helen',\n",
       " 'Mary',\n",
       " 'Helen',\n",
       " 'Helen',\n",
       " 'Mary',\n",
       " 'Helen',\n",
       " 'Mary',\n",
       " 'Helen',\n",
       " 'Mary',\n",
       " 'Helen',\n",
       " 'Helen',\n",
       " 'Maynard',\n",
       " 'Mary',\n",
       " 'Maynard',\n",
       " 'Mary',\n",
       " \"Ma'm\",\n",
       " 'trus',\n",
       " 'Maynard',\n",
       " 'Mary',\n",
       " 'Mon Dieu',\n",
       " 'Mary',\n",
       " 'Mary',\n",
       " 'Patty',\n",
       " 'Maynard',\n",
       " 'Helen',\n",
       " 'Patty',\n",
       " 'Stanley',\n",
       " 'Stanley',\n",
       " 'Burdon',\n",
       " 'Josiah',\n",
       " 'Cutler',\n",
       " 'Mary',\n",
       " 'Stanley',\n",
       " 'Josiah',\n",
       " 'Mary',\n",
       " 'Stanley',\n",
       " 'Stanley',\n",
       " 'Stanley',\n",
       " 'Burdon',\n",
       " 'Mary',\n",
       " 'Josiah',\n",
       " 'Mary',\n",
       " 'Josiah',\n",
       " 'Stanley',\n",
       " 'Mary',\n",
       " 'Josiah',\n",
       " 'Mary',\n",
       " 'Mary',\n",
       " 'Josiah',\n",
       " 'Mary',\n",
       " 'Mary',\n",
       " 'Mary',\n",
       " 'Mary',\n",
       " 'Mary',\n",
       " 'Archey',\n",
       " 'Archey',\n",
       " 'Mary',\n",
       " 'Spencer',\n",
       " 'Mary',\n",
       " 'Patty',\n",
       " 'Cordelia',\n",
       " 'Spencer',\n",
       " 'Cordelia',\n",
       " 'Parsons',\n",
       " 'Parsons',\n",
       " 'Mary',\n",
       " 'Mary',\n",
       " 'Parsons',\n",
       " 'Spencers',\n",
       " 'Mary',\n",
       " 'Cordelia',\n",
       " 'Parsons',\n",
       " 'Parsons',\n",
       " 'Spencer',\n",
       " 'Spicer',\n",
       " 'Cordelia',\n",
       " 'Mary',\n",
       " 'Cordelia',\n",
       " 'Mary',\n",
       " 'Mary',\n",
       " 'Parsons',\n",
       " 'Mary',\n",
       " 'Helen',\n",
       " 'Helen',\n",
       " 'Mary',\n",
       " 'Helen',\n",
       " 'Parsons',\n",
       " 'Mary',\n",
       " 'Cordelia',\n",
       " 'Patty',\n",
       " 'Helen',\n",
       " 'Parsons',\n",
       " 'St. Cecilia',\n",
       " 'Cordelia',\n",
       " 'Mary',\n",
       " 'Patty',\n",
       " 'Cordelia',\n",
       " 'Patty',\n",
       " 'Cordelia',\n",
       " 'Mary',\n",
       " 'Mary',\n",
       " 'Mary',\n",
       " 'Becky',\n",
       " 'Vera',\n",
       " 'Mary',\n",
       " 'Marx',\n",
       " 'Mary',\n",
       " 'Mary',\n",
       " 'Parsons',\n",
       " 'Helen',\n",
       " 'Helen',\n",
       " 'Mary',\n",
       " 'Spencer',\n",
       " 'Cordelia',\n",
       " 'Patty',\n",
       " 'Mary',\n",
       " 'Wally',\n",
       " 'James',\n",
       " 'Mary',\n",
       " 'Brad',\n",
       " 'Wally',\n",
       " 'Wally',\n",
       " 'Helen',\n",
       " 'Mary',\n",
       " 'Mary',\n",
       " 'Wally Cabot',\n",
       " 'Helen',\n",
       " 'Mary',\n",
       " 'Wally Cabot',\n",
       " 'Mary',\n",
       " 'Mary',\n",
       " 'Mary',\n",
       " 'Mary',\n",
       " 'Paul',\n",
       " 'Josiah',\n",
       " 'Paul',\n",
       " 'Josiah',\n",
       " 'Mary',\n",
       " 'Josiah',\n",
       " 'Walter Cabot',\n",
       " 'Mary',\n",
       " 'Mary',\n",
       " 'Wally',\n",
       " 'Wally',\n",
       " 'Wally',\n",
       " 'Wally',\n",
       " 'Wally',\n",
       " 'Mary',\n",
       " 'Wally',\n",
       " 'Helen',\n",
       " 'Nita',\n",
       " 'Juanita',\n",
       " 'Helen',\n",
       " 'Garde',\n",
       " 'Will Thompson',\n",
       " 'Patty',\n",
       " 'Cordelia',\n",
       " 'Helen',\n",
       " 'Punch',\n",
       " 'Mary',\n",
       " 'Maynard',\n",
       " 'Mary',\n",
       " 'Wally',\n",
       " 'Patty',\n",
       " 'Mary',\n",
       " 'Josiah',\n",
       " 'Mary',\n",
       " 'Josiah',\n",
       " 'Cordelia',\n",
       " 'Mary',\n",
       " 'Mary',\n",
       " 'Josiah',\n",
       " 'Cordelia',\n",
       " 'Patty',\n",
       " 'Cordelia',\n",
       " 'Patty',\n",
       " 'Cordelia',\n",
       " 'Cordelia',\n",
       " 'Patty',\n",
       " 'Josiah',\n",
       " 'Patty',\n",
       " 'Paul',\n",
       " 'Mary',\n",
       " 'Josiah',\n",
       " 'Cordelia',\n",
       " 'Patty',\n",
       " 'Mary',\n",
       " 'Josiah Spencer',\n",
       " 'Washington',\n",
       " 'Fulton',\n",
       " 'Morse',\n",
       " 'Columbus',\n",
       " 'George Washington',\n",
       " 'Washington',\n",
       " 'Ridge',\n",
       " 'Mary',\n",
       " 'Washington',\n",
       " 'Shakespeare',\n",
       " 'Mary',\n",
       " 'Mary',\n",
       " 'Wally Cabot',\n",
       " 'Mary',\n",
       " 'Cutler',\n",
       " 'Mary',\n",
       " 'Stanley',\n",
       " 'Mary',\n",
       " 'Mary',\n",
       " 'Josiah',\n",
       " 'Mary',\n",
       " 'Mary',\n",
       " 'Mary',\n",
       " 'Mary',\n",
       " 'Cutler',\n",
       " 'Mary',\n",
       " 'Stanley',\n",
       " 'Burdon',\n",
       " 'Mary',\n",
       " 'Stanley',\n",
       " 'Mary',\n",
       " 'Stanley',\n",
       " 'Mary',\n",
       " 'Cutler',\n",
       " 'Cutler',\n",
       " 'Stanley',\n",
       " 'Stanley',\n",
       " 'Cutler',\n",
       " 'Spencer',\n",
       " 'Woodward',\n",
       " 'Spencer',\n",
       " 'Spencers',\n",
       " 'Stanley',\n",
       " \"Mary Spencer'--you\",\n",
       " 'M. Spencer',\n",
       " 'Matthew',\n",
       " 'Mark',\n",
       " 'Michael',\n",
       " 'Malachi',\n",
       " 'Mary',\n",
       " 'Uncle Stanley',\n",
       " 'Stanley Woodward',\n",
       " 'Mary',\n",
       " 'Mary',\n",
       " 'Mary',\n",
       " 'Stanley',\n",
       " 'Wally Cabot',\n",
       " 'Mary',\n",
       " 'Stanley',\n",
       " 'Burdon',\n",
       " 'Burdon',\n",
       " 'Mary',\n",
       " 'Mary',\n",
       " 'Destiny',\n",
       " 'Burdon Woodward',\n",
       " 'Mary',\n",
       " 'Raffles',\n",
       " 'Steerforth',\n",
       " 'David Copperfield',\n",
       " 'Morgan',\n",
       " 'Kidd',\n",
       " 'Black Jack',\n",
       " 'Dora',\n",
       " 'Mary',\n",
       " 'Mary',\n",
       " 'Burdon Woodward',\n",
       " 'Mary',\n",
       " 'Mary',\n",
       " 'Burdon',\n",
       " 'Josiah',\n",
       " 'Josiah',\n",
       " 'Mary',\n",
       " 'Burdon',\n",
       " 'Cordelia',\n",
       " 'Patty',\n",
       " 'Josiah',\n",
       " 'Mary',\n",
       " 'Burdon Woodward',\n",
       " \"d'Artagnan\",\n",
       " 'Mary',\n",
       " 'Mary',\n",
       " 'Burdon',\n",
       " 'Helen',\n",
       " 'Mary',\n",
       " 'Vera',\n",
       " 'Archey Forbes',\n",
       " 'Burdon',\n",
       " 'Wally Cabot',\n",
       " 'Burdon Woodward',\n",
       " 'Archey Forbes',\n",
       " \"Wally Cabot's\",\n",
       " 'Wally',\n",
       " 'Helen',\n",
       " 'Cordelia',\n",
       " 'Patty',\n",
       " 'Helen',\n",
       " 'Mary',\n",
       " 'Wally',\n",
       " 'Josiah',\n",
       " 'Wally',\n",
       " 'Wally',\n",
       " 'Helen',\n",
       " 'fie',\n",
       " 'Mary',\n",
       " 'Wally',\n",
       " 'Mary',\n",
       " 'Mary',\n",
       " 'Mary Spencer',\n",
       " 'Wally',\n",
       " 'Mary',\n",
       " 'Jack',\n",
       " 'Mary',\n",
       " 'Wally',\n",
       " 'Helen',\n",
       " 'Mary',\n",
       " 'Wally',\n",
       " 'Paul',\n",
       " 'Mary',\n",
       " 'Mary',\n",
       " 'Wally',\n",
       " 'Paul',\n",
       " 'Mary',\n",
       " 'Mary',\n",
       " 'Mary',\n",
       " 'Patty',\n",
       " 'Patty',\n",
       " 'Delia',\n",
       " 'Mary',\n",
       " 'Mary',\n",
       " 'Mary',\n",
       " 'Mary',\n",
       " 'Mary',\n",
       " 'Mary',\n",
       " 'Mary',\n",
       " 'Mary',\n",
       " 'Betsey Ross',\n",
       " 'Betsey',\n",
       " 'Joan of Arc',\n",
       " 'Mary',\n",
       " 'Mary',\n",
       " 'Mary',\n",
       " 'Mary',\n",
       " 'MacPherson',\n",
       " 'Mary',\n",
       " 'Mary',\n",
       " 'Mary',\n",
       " 'Mac',\n",
       " 'Mary',\n",
       " 'Woodward',\n",
       " 'Mary',\n",
       " 'Mac',\n",
       " 'Mac',\n",
       " 'Mary',\n",
       " 'Mary',\n",
       " 'Mac',\n",
       " 'Mary',\n",
       " 'Mary',\n",
       " 'Mac',\n",
       " 'Mary',\n",
       " 'Stanley',\n",
       " 'Mary',\n",
       " 'Burdon Woodward',\n",
       " 'Mary',\n",
       " \"Ma'm Maynard's\",\n",
       " 'Mary',\n",
       " 'Mary',\n",
       " 'MacPherson',\n",
       " 'Cutler',\n",
       " 'Archey Forbes',\n",
       " 'Wally Cabot',\n",
       " 'Mac',\n",
       " 'Cutler',\n",
       " 'Mary',\n",
       " 'Mary',\n",
       " 'Mary',\n",
       " 'Mac',\n",
       " 'Stanley',\n",
       " 'Mary',\n",
       " 'Mary',\n",
       " 'Stanley',\n",
       " 'Spencer',\n",
       " 'Stanley Woodward',\n",
       " 'Mary',\n",
       " 'Mary',\n",
       " 'Wally',\n",
       " 'Mary',\n",
       " 'MacPherson',\n",
       " 'Mary',\n",
       " 'James O. MacPherson',\n",
       " 'Mary',\n",
       " 'Cutler',\n",
       " 'Helen',\n",
       " 'Helen',\n",
       " 'Wally',\n",
       " 'Mary',\n",
       " 'Helen',\n",
       " 'Helen',\n",
       " 'Wally',\n",
       " 'Mary',\n",
       " 'Helen',\n",
       " 'Mary',\n",
       " 'Stanley',\n",
       " 'Cutler',\n",
       " 'Mary',\n",
       " 'Stanley',\n",
       " 'Mary',\n",
       " 'Stanley',\n",
       " 'Mary',\n",
       " 'Mary',\n",
       " 'Mary',\n",
       " 'Stanley',\n",
       " 'Mary',\n",
       " 'Cutler',\n",
       " 'Stanley',\n",
       " 'Stanley',\n",
       " 'Mary',\n",
       " 'Josiah',\n",
       " 'Spencers',\n",
       " 'Stanley',\n",
       " 'Stanley',\n",
       " 'Mary',\n",
       " 'Stanley',\n",
       " 'Mary',\n",
       " 'Stanley',\n",
       " 'Spencer',\n",
       " 'Stanley',\n",
       " 'Mary',\n",
       " 'Mary',\n",
       " 'Archey Forbes',\n",
       " 'Mary',\n",
       " 'Mary',\n",
       " 'Mary',\n",
       " 'Mac',\n",
       " 'Mary',\n",
       " 'Mac',\n",
       " 'Mac',\n",
       " 'Mary',\n",
       " 'Mary',\n",
       " 'Archey',\n",
       " 'Josiah Spencers',\n",
       " 'Spencers',\n",
       " 'Moses',\n",
       " 'Mary',\n",
       " 'Josiahs',\n",
       " 'Mary',\n",
       " 'Wally',\n",
       " 'Mary',\n",
       " 'Mary',\n",
       " 'Wally',\n",
       " 'Mary',\n",
       " 'Wally',\n",
       " 'Patty',\n",
       " 'Cordelia',\n",
       " 'Helen',\n",
       " 'Mary',\n",
       " 'Cordelia',\n",
       " 'Patty',\n",
       " 'Helen',\n",
       " 'Mary',\n",
       " 'Mary',\n",
       " 'Wally',\n",
       " 'Archey Forbes',\n",
       " 'Mary',\n",
       " 'Burdon',\n",
       " 'Archey',\n",
       " 'Burdon',\n",
       " 'Mary',\n",
       " 'Archey',\n",
       " 'Mary',\n",
       " 'Burdon Woodward',\n",
       " 'Burdon',\n",
       " 'Mary',\n",
       " 'Steerforth',\n",
       " 'David Copperfield',\n",
       " 'Mary',\n",
       " \"M'sieur Beaucaire\",\n",
       " 'Don Juan',\n",
       " 'Buckingham',\n",
       " 'Burdon',\n",
       " 'Mary',\n",
       " 'Burdon',\n",
       " 'Mary',\n",
       " 'Archey',\n",
       " 'Archey',\n",
       " 'Mary',\n",
       " 'Archey',\n",
       " 'Mary',\n",
       " 'Stanley',\n",
       " 'Burdon',\n",
       " 'Burdon',\n",
       " 'Stanley',\n",
       " 'Stanley',\n",
       " 'Burdon',\n",
       " 'Stanley',\n",
       " 'Mary',\n",
       " 'Spencers',\n",
       " 'Mars',\n",
       " 'Mary',\n",
       " 'Mary',\n",
       " 'Mary',\n",
       " 'Mary',\n",
       " 'Stanley',\n",
       " 'Burdon',\n",
       " 'Mary',\n",
       " 'Stanley',\n",
       " 'Stanley',\n",
       " 'Mary',\n",
       " 'Cutler',\n",
       " 'Mary',\n",
       " 'Mary',\n",
       " 'Mary',\n",
       " 'Helen',\n",
       " 'Helen',\n",
       " 'Mary',\n",
       " 'Helen',\n",
       " 'Mary',\n",
       " 'Mary',\n",
       " 'Helen',\n",
       " 'Mary',\n",
       " 'Burdon Woodward',\n",
       " 'Mary',\n",
       " 'Cutler',\n",
       " 'Helen',\n",
       " 'Mary',\n",
       " 'Helen',\n",
       " 'Helen',\n",
       " 'Helen',\n",
       " 'Mary',\n",
       " 'Burdon Woodward',\n",
       " 'Doris',\n",
       " 'Helen',\n",
       " 'Helen',\n",
       " 'Mary',\n",
       " 'Burdon',\n",
       " 'Mary',\n",
       " 'Paul',\n",
       " 'Rosa',\n",
       " 'Mary',\n",
       " 'Mary',\n",
       " 'Paul',\n",
       " 'Wally',\n",
       " 'Mary',\n",
       " 'Josiah Spencer',\n",
       " 'Rosa',\n",
       " 'Rosa',\n",
       " 'Josiah',\n",
       " 'Josiah',\n",
       " 'Maynard',\n",
       " 'Helen',\n",
       " 'Cordelia',\n",
       " 'Patty',\n",
       " 'Archey Forbes',\n",
       " 'Mary',\n",
       " 'Mary',\n",
       " 'Helen',\n",
       " 'Helen',\n",
       " 'Mary',\n",
       " 'Wally Cabot',\n",
       " 'Archey Forbes',\n",
       " 'Helen',\n",
       " 'Mary',\n",
       " 'Mary',\n",
       " 'Archey',\n",
       " 'Archey',\n",
       " 'Wally Cabot',\n",
       " 'Mary',\n",
       " 'Cordelia',\n",
       " 'Patty',\n",
       " 'Helen',\n",
       " 'Mary',\n",
       " 'Cordelia',\n",
       " 'Mary',\n",
       " 'Helen',\n",
       " 'Mary',\n",
       " 'Mary',\n",
       " 'Patty',\n",
       " 'Wally Cabot',\n",
       " 'Archey Forbes',\n",
       " 'Archey',\n",
       " 'Wally Cabot',\n",
       " 'Archey',\n",
       " 'Mary',\n",
       " 'Helen',\n",
       " 'Wally',\n",
       " 'Archey',\n",
       " 'Archey',\n",
       " 'Mary',\n",
       " 'Moses',\n",
       " 'Stanley',\n",
       " 'Stanley',\n",
       " 'Mary',\n",
       " 'Wally',\n",
       " 'Stanley',\n",
       " 'Wally',\n",
       " 'Wally',\n",
       " 'Mary',\n",
       " 'Mary',\n",
       " 'Wally',\n",
       " 'Mary',\n",
       " 'Mary',\n",
       " 'Helen',\n",
       " 'Wally',\n",
       " 'Mary',\n",
       " 'Mary',\n",
       " 'Mary',\n",
       " 'Mary',\n",
       " 'Mary',\n",
       " 'Cutler',\n",
       " 'Mary',\n",
       " 'Wally',\n",
       " 'Mary',\n",
       " 'Wally',\n",
       " 'Mary',\n",
       " 'Mary',\n",
       " 'Lieutenant Cabot',\n",
       " 'Mary',\n",
       " 'Wally',\n",
       " 'Helen',\n",
       " 'Mary',\n",
       " 'Mary',\n",
       " 'Wally',\n",
       " 'Helen',\n",
       " 'Wally',\n",
       " 'Mary',\n",
       " 'Mary',\n",
       " 'Spencer',\n",
       " 'Spencer',\n",
       " 'Mary',\n",
       " 'Woodward',\n",
       " 'Woodward',\n",
       " 'Mary',\n",
       " 'Spencer',\n",
       " 'Molls',\n",
       " 'Molls',\n",
       " 'Mary',\n",
       " 'Wally',\n",
       " 'Wally',\n",
       " 'Wally',\n",
       " 'Mary',\n",
       " 'Wally',\n",
       " 'Helen',\n",
       " 'Mary',\n",
       " 'Wally',\n",
       " 'Burdon Woodward',\n",
       " 'Burdon Woodward--',\n",
       " 'Wally',\n",
       " 'Helen',\n",
       " 'Wally',\n",
       " 'Helen',\n",
       " 'Mary',\n",
       " 'Wally',\n",
       " 'Mary',\n",
       " 'Archey',\n",
       " 'Archey',\n",
       " 'Mary',\n",
       " 'Spencer',\n",
       " 'Woodward',\n",
       " 'Joe',\n",
       " 'Archey',\n",
       " 'Mary',\n",
       " 'Edsol',\n",
       " 'Spencer',\n",
       " 'Mary',\n",
       " 'Joe',\n",
       " 'Woodward',\n",
       " 'Joe',\n",
       " 'Burdon',\n",
       " 'Burdon',\n",
       " 'Mary',\n",
       " 'Joe',\n",
       " 'Mary',\n",
       " 'Mary',\n",
       " 'Mary',\n",
       " 'Mary',\n",
       " 'Edsol',\n",
       " 'Mary',\n",
       " 'Mary',\n",
       " 'Mary',\n",
       " 'Mary',\n",
       " 'Mary',\n",
       " 'Mary',\n",
       " 'Ridge',\n",
       " 'Spencer',\n",
       " 'Spencer',\n",
       " 'Cutler',\n",
       " 'Mary',\n",
       " 'Mary',\n",
       " 'Spencer',\n",
       " 'Mary',\n",
       " 'Mary',\n",
       " 'Mary',\n",
       " 'Stanley',\n",
       " 'Stanley',\n",
       " 'Mary',\n",
       " 'Stanley',\n",
       " 'Uncle',\n",
       " 'Mary',\n",
       " 'Joe',\n",
       " 'Joe',\n",
       " 'Mary',\n",
       " 'Joe',\n",
       " 'Haskins',\n",
       " 'Mary',\n",
       " 'Haskins',\n",
       " 'Mary',\n",
       " 'Haskins',\n",
       " 'Ridge',\n",
       " 'Mary',\n",
       " 'Spencer',\n",
       " 'Mary',\n",
       " 'Strauss',\n",
       " 'Mary',\n",
       " 'Spencer',\n",
       " 'Ridge',\n",
       " 'Mary',\n",
       " 'Spencer',\n",
       " 'Mary',\n",
       " 'Strauss',\n",
       " 'Ridge',\n",
       " 'Mary',\n",
       " 'Archey',\n",
       " 'Mary',\n",
       " 'Archey',\n",
       " 'Mary',\n",
       " 'Spencer',\n",
       " 'Mary',\n",
       " 'Joe',\n",
       " 'Ridge',\n",
       " 'Mary',\n",
       " 'Kelly',\n",
       " 'Mary',\n",
       " 'Mary',\n",
       " 'Mary',\n",
       " 'Cutler',\n",
       " 'Mary',\n",
       " 'Mary',\n",
       " \"Ma'm Maynard's\",\n",
       " 'Mary',\n",
       " 'Mary',\n",
       " 'Cutler',\n",
       " 'Mary',\n",
       " 'Archey',\n",
       " 'Mary',\n",
       " 'Archey',\n",
       " 'Burdon',\n",
       " 'Mary',\n",
       " 'Archey',\n",
       " 'Burdon',\n",
       " ...]"
      ]
     },
     "execution_count": 5,
     "metadata": {},
     "output_type": "execute_result"
    }
   ],
   "source": [
    "story.people_list()"
   ]
  },
  {
   "cell_type": "code",
   "execution_count": 6,
   "metadata": {},
   "outputs": [
    {
     "data": {
      "text/plain": [
       "(1711, 1711)"
      ]
     },
     "execution_count": 6,
     "metadata": {},
     "output_type": "execute_result"
    }
   ],
   "source": [
    "len(story.occurrences), len(story.people_list())"
   ]
  },
  {
   "cell_type": "markdown",
   "metadata": {},
   "source": [
    "We can maybe think about processing serially.\n",
    "\n",
    "As we run through we can build a set of ent strings. These are candidates.\n",
    "\n",
    "When we hit a name there are several options:\n",
    "* It's a new character;\n",
    "* It's a match for a previous character."
   ]
  },
  {
   "cell_type": "markdown",
   "metadata": {},
   "source": [
    "Your high-level plan sounds well-structured. Here's a more detailed breakdown of the coding steps, building on your ideas:\n",
    "\n",
    "### Phase 1: Initial Setup\n",
    "1. **Generate Occurrences**: Process the text with spaCy to get all `ent` spans, and then create `Occurrence` objects for each one of these.\n",
    "2. **Initial Character Candidate Set**: Create an initial set of `Character` objects based on the unique cleaned `text` properties of the `Occurrence` objects. This will involve text cleaning like removing determiners and trailing \"s\".\n",
    "\n",
    "### Phase 2: Multiple Token Matches\n",
    "1. **Identify Multiple Token Candidates**: Filter the initial set of `Character` objects to only include names that are multiple tokens. \n",
    "2. **Fuzzy Matching**: For each multiple-token `Character`, create a list of potential matches from the `Occurrence` objects. This could be done through partial token matching, lemmatization, or other techniques.\n",
    "3. **Unambiguous Matches**: If the list from the previous step contains only one entry, associate all corresponding `Occurrence` objects with that `Character`.\n",
    "4. **Character Merging**: For multiple-token names that are unambiguously matched, consider merging them into a single `Character` if needed. For example, \"John Doe\" and \"Mr. John Doe\" could potentially be merged.\n",
    "5. **Surnames and Titles**: At this stage, you could also collect all unique surnames and titles for use in later phases.\n",
    "\n",
    "### Phase 3: Single Token Matches\n",
    "1. **Identify Single Token Candidates**: Now focus on the single-token names from the `Character` objects.\n",
    "2. **Associate with Multiple-Token Matches**: Using the multiple-token matches as a reference, assign single-token `Occurrence` objects to corresponding `Character` objects where possible. For instance, \"John\" could be mapped to \"John Doe\" if \"John Doe\" has already been identified.\n",
    "3. **Disambiguation and Context**: Apply additional logic, potentially involving contextual information, to disambiguate single-token names that match with multiple `Character` objects.\n",
    "\n",
    "### Phase 4: Refinement and Output\n",
    "1. **Apply Nickname Logic**: Incorporate your nickname dictionary to further refine the matches.\n",
    "2. **Generate Output**: Create a final list of `Character` objects, each enriched with its associated `Occurrence` objects, relationships, and other metadata.\n",
    "\n",
    "This can be an iterative process. After an initial pass, you might find it useful to return to earlier steps to refine the character matches using newly-acquired context.\n",
    "\n",
    "Would you like to proceed to code some parts of this plan, or should we discuss this further?"
   ]
  },
  {
   "cell_type": "code",
   "execution_count": 13,
   "metadata": {},
   "outputs": [
    {
     "name": "stdout",
     "output_type": "stream",
     "text": [
      "['abner spicer', 'ezra babcock', 'josiah spencer', 'martha berger', 'abner spencer', 'barbara fritchie', 'patrick henry', 'angel of death', 'angel of life', 'dauphin of', 'stanley woodward', 'cousin stanley', 'archey forbes', 'bob mcallister', 'mon dieu', 'st. cecilia', 'wally cabot', 'walter cabot', 'will thompson', 'george washington', 'mary spencer', 'm. spencer', 'uncle stanley', 'burdon woodward', 'david copperfield', 'black jack', 'betsey ross', 'joan of arc', \"ma'm maynard\", 'james o. macpherson', 'josiah spencers', \"m'sieur beaucaire\", 'don juan', 'lieutenant cabot', 'molly pitcher', 'jimmy kelly', 'mary mcmillan', 'james kelly', 'sam reisinger', 'helen cabot', 'nicholas rapieff', 'paul spencer', 'archibald forbes', 'william the thoughtful']\n"
     ]
    }
   ],
   "source": [
    "multiple_token_candidates = story.get_multiple_token_candidates(); print(multiple_token_candidates)"
   ]
  },
  {
   "cell_type": "code",
   "execution_count": 8,
   "metadata": {},
   "outputs": [],
   "source": [
    "occurrences_by_text = story.get_occurrences_by_text()"
   ]
  },
  {
   "cell_type": "code",
   "execution_count": 9,
   "metadata": {},
   "outputs": [],
   "source": [
    "potential_first_names, potential_surnames = story.populate_name_candidates()"
   ]
  },
  {
   "cell_type": "code",
   "execution_count": 10,
   "metadata": {},
   "outputs": [
    {
     "name": "stdout",
     "output_type": "stream",
     "text": [
      "{'josiah', 'm.', 'angel', 'mon', 'burdon', 'george', 'bob', 'sam', 'james', 'jimmy', 'walter', 'st.', 'archey', 'betsey', 'joan', 'uncle', 'don', 'barbara', 'helen', 'paul', \"m'sieur\", 'lieutenant', 'abner', 'martha', 'cousin', 'nicholas', 'patrick', \"ma'm\", 'will', 'black', 'archibald', 'mary', 'william', 'wally', 'stanley', 'dauphin', 'david', 'ezra', 'molly'} \n",
      "\n",
      " {'forbes', 'reisinger', 'beaucaire', 'mcallister', 'arc', 'kelly', 'berger', 'dieu', 'fritchie', 'death', 'babcock', 'cecilia', 'spencer', 'of', 'copperfield', 'woodward', 'life', 'macpherson', 'pitcher', 'thompson', 'mcmillan', 'henry', 'washington', 'spicer', 'juan', 'jack', 'cabot', 'rapieff', 'spencers', 'maynard', \"spencer'--you\", 'stanley', 'thoughtful', 'ross'}\n"
     ]
    }
   ],
   "source": [
    "print(potential_first_names, \"\\n\\n\", potential_surnames)"
   ]
  },
  {
   "cell_type": "code",
   "execution_count": 15,
   "metadata": {},
   "outputs": [
    {
     "name": "stdout",
     "output_type": "stream",
     "text": [
      "[('abner spicer', 'ezra babcock'), ('abner spicer', 'josiah spencer'), ('abner spicer', 'martha berger'), ('abner spicer', 'abner spencer'), ('abner spicer', 'barbara fritchie'), ('abner spicer', 'patrick henry'), ('abner spicer', 'angel of death'), ('abner spicer', 'angel of life'), ('abner spicer', 'dauphin of'), ('abner spicer', 'stanley woodward'), ('abner spicer', 'cousin stanley'), ('abner spicer', 'archey forbes'), ('abner spicer', 'bob mcallister'), ('abner spicer', 'mon dieu'), ('abner spicer', 'st. cecilia'), ('abner spicer', 'wally cabot'), ('abner spicer', 'walter cabot'), ('abner spicer', 'will thompson'), ('abner spicer', 'george washington'), ('abner spicer', 'mary spencer'), ('abner spicer', 'm. spencer'), ('abner spicer', 'uncle stanley'), ('abner spicer', 'burdon woodward'), ('abner spicer', 'david copperfield'), ('abner spicer', 'black jack'), ('abner spicer', 'betsey ross'), ('abner spicer', 'joan of arc'), ('abner spicer', \"ma'm maynard\"), ('abner spicer', 'james o. macpherson'), ('abner spicer', 'josiah spencers'), ('abner spicer', \"m'sieur beaucaire\"), ('abner spicer', 'don juan'), ('abner spicer', 'lieutenant cabot'), ('abner spicer', 'molly pitcher'), ('abner spicer', 'jimmy kelly'), ('abner spicer', 'mary mcmillan'), ('abner spicer', 'james kelly'), ('abner spicer', 'sam reisinger'), ('abner spicer', 'helen cabot'), ('abner spicer', 'nicholas rapieff'), ('abner spicer', 'paul spencer'), ('abner spicer', 'archibald forbes'), ('abner spicer', 'william the thoughtful'), ('ezra babcock', 'josiah spencer'), ('ezra babcock', 'martha berger'), ('ezra babcock', 'abner spencer'), ('ezra babcock', 'barbara fritchie'), ('ezra babcock', 'patrick henry'), ('ezra babcock', 'angel of death'), ('ezra babcock', 'angel of life'), ('ezra babcock', 'dauphin of'), ('ezra babcock', 'stanley woodward'), ('ezra babcock', 'cousin stanley'), ('ezra babcock', 'archey forbes'), ('ezra babcock', 'bob mcallister'), ('ezra babcock', 'mon dieu'), ('ezra babcock', 'st. cecilia'), ('ezra babcock', 'wally cabot'), ('ezra babcock', 'walter cabot'), ('ezra babcock', 'will thompson'), ('ezra babcock', 'george washington'), ('ezra babcock', 'mary spencer'), ('ezra babcock', 'm. spencer'), ('ezra babcock', 'uncle stanley'), ('ezra babcock', 'burdon woodward'), ('ezra babcock', 'david copperfield'), ('ezra babcock', 'black jack'), ('ezra babcock', 'betsey ross'), ('ezra babcock', 'joan of arc'), ('ezra babcock', \"ma'm maynard\"), ('ezra babcock', 'james o. macpherson'), ('ezra babcock', 'josiah spencers'), ('ezra babcock', \"m'sieur beaucaire\"), ('ezra babcock', 'don juan'), ('ezra babcock', 'lieutenant cabot'), ('ezra babcock', 'molly pitcher'), ('ezra babcock', 'jimmy kelly'), ('ezra babcock', 'mary mcmillan'), ('ezra babcock', 'james kelly'), ('ezra babcock', 'sam reisinger'), ('ezra babcock', 'helen cabot'), ('ezra babcock', 'nicholas rapieff'), ('ezra babcock', 'paul spencer'), ('ezra babcock', 'archibald forbes'), ('ezra babcock', 'william the thoughtful'), ('josiah spencer', 'martha berger'), ('josiah spencer', 'abner spencer'), ('josiah spencer', 'barbara fritchie'), ('josiah spencer', 'patrick henry'), ('josiah spencer', 'angel of death'), ('josiah spencer', 'angel of life'), ('josiah spencer', 'dauphin of'), ('josiah spencer', 'stanley woodward'), ('josiah spencer', 'cousin stanley'), ('josiah spencer', 'archey forbes'), ('josiah spencer', 'bob mcallister'), ('josiah spencer', 'mon dieu'), ('josiah spencer', 'st. cecilia'), ('josiah spencer', 'wally cabot'), ('josiah spencer', 'walter cabot'), ('josiah spencer', 'will thompson'), ('josiah spencer', 'george washington'), ('josiah spencer', 'mary spencer'), ('josiah spencer', 'm. spencer'), ('josiah spencer', 'uncle stanley'), ('josiah spencer', 'burdon woodward'), ('josiah spencer', 'david copperfield'), ('josiah spencer', 'black jack'), ('josiah spencer', 'betsey ross'), ('josiah spencer', 'joan of arc'), ('josiah spencer', \"ma'm maynard\"), ('josiah spencer', 'james o. macpherson'), ('josiah spencer', 'josiah spencers'), ('josiah spencer', \"m'sieur beaucaire\"), ('josiah spencer', 'don juan'), ('josiah spencer', 'lieutenant cabot'), ('josiah spencer', 'molly pitcher'), ('josiah spencer', 'jimmy kelly'), ('josiah spencer', 'mary mcmillan'), ('josiah spencer', 'james kelly'), ('josiah spencer', 'sam reisinger'), ('josiah spencer', 'helen cabot'), ('josiah spencer', 'nicholas rapieff'), ('josiah spencer', 'paul spencer'), ('josiah spencer', 'archibald forbes'), ('josiah spencer', 'william the thoughtful'), ('martha berger', 'abner spencer'), ('martha berger', 'barbara fritchie'), ('martha berger', 'patrick henry'), ('martha berger', 'angel of death'), ('martha berger', 'angel of life'), ('martha berger', 'dauphin of'), ('martha berger', 'stanley woodward'), ('martha berger', 'cousin stanley'), ('martha berger', 'archey forbes'), ('martha berger', 'bob mcallister'), ('martha berger', 'mon dieu'), ('martha berger', 'st. cecilia'), ('martha berger', 'wally cabot'), ('martha berger', 'walter cabot'), ('martha berger', 'will thompson'), ('martha berger', 'george washington'), ('martha berger', 'mary spencer'), ('martha berger', 'm. spencer'), ('martha berger', 'uncle stanley'), ('martha berger', 'burdon woodward'), ('martha berger', 'david copperfield'), ('martha berger', 'black jack'), ('martha berger', 'betsey ross'), ('martha berger', 'joan of arc'), ('martha berger', \"ma'm maynard\"), ('martha berger', 'james o. macpherson'), ('martha berger', 'josiah spencers'), ('martha berger', \"m'sieur beaucaire\"), ('martha berger', 'don juan'), ('martha berger', 'lieutenant cabot'), ('martha berger', 'molly pitcher'), ('martha berger', 'jimmy kelly'), ('martha berger', 'mary mcmillan'), ('martha berger', 'james kelly'), ('martha berger', 'sam reisinger'), ('martha berger', 'helen cabot'), ('martha berger', 'nicholas rapieff'), ('martha berger', 'paul spencer'), ('martha berger', 'archibald forbes'), ('martha berger', 'william the thoughtful'), ('abner spencer', 'barbara fritchie'), ('abner spencer', 'patrick henry'), ('abner spencer', 'angel of death'), ('abner spencer', 'angel of life'), ('abner spencer', 'dauphin of'), ('abner spencer', 'stanley woodward'), ('abner spencer', 'cousin stanley'), ('abner spencer', 'archey forbes'), ('abner spencer', 'bob mcallister'), ('abner spencer', 'mon dieu'), ('abner spencer', 'st. cecilia'), ('abner spencer', 'wally cabot'), ('abner spencer', 'walter cabot'), ('abner spencer', 'will thompson'), ('abner spencer', 'george washington'), ('abner spencer', 'mary spencer'), ('abner spencer', 'm. spencer'), ('abner spencer', 'uncle stanley'), ('abner spencer', 'burdon woodward'), ('abner spencer', 'david copperfield'), ('abner spencer', 'black jack'), ('abner spencer', 'betsey ross'), ('abner spencer', 'joan of arc'), ('abner spencer', \"ma'm maynard\"), ('abner spencer', 'james o. macpherson'), ('abner spencer', 'josiah spencers'), ('abner spencer', \"m'sieur beaucaire\"), ('abner spencer', 'don juan'), ('abner spencer', 'lieutenant cabot'), ('abner spencer', 'molly pitcher'), ('abner spencer', 'jimmy kelly'), ('abner spencer', 'mary mcmillan'), ('abner spencer', 'james kelly'), ('abner spencer', 'sam reisinger'), ('abner spencer', 'helen cabot'), ('abner spencer', 'nicholas rapieff'), ('abner spencer', 'paul spencer'), ('abner spencer', 'archibald forbes'), ('abner spencer', 'william the thoughtful'), ('barbara fritchie', 'patrick henry'), ('barbara fritchie', 'angel of death'), ('barbara fritchie', 'angel of life'), ('barbara fritchie', 'dauphin of'), ('barbara fritchie', 'stanley woodward'), ('barbara fritchie', 'cousin stanley'), ('barbara fritchie', 'archey forbes'), ('barbara fritchie', 'bob mcallister'), ('barbara fritchie', 'mon dieu'), ('barbara fritchie', 'st. cecilia'), ('barbara fritchie', 'wally cabot'), ('barbara fritchie', 'walter cabot'), ('barbara fritchie', 'will thompson'), ('barbara fritchie', 'george washington'), ('barbara fritchie', 'mary spencer'), ('barbara fritchie', 'm. spencer'), ('barbara fritchie', 'uncle stanley'), ('barbara fritchie', 'burdon woodward'), ('barbara fritchie', 'david copperfield'), ('barbara fritchie', 'black jack'), ('barbara fritchie', 'betsey ross'), ('barbara fritchie', 'joan of arc'), ('barbara fritchie', \"ma'm maynard\"), ('barbara fritchie', 'james o. macpherson'), ('barbara fritchie', 'josiah spencers'), ('barbara fritchie', \"m'sieur beaucaire\"), ('barbara fritchie', 'don juan'), ('barbara fritchie', 'lieutenant cabot'), ('barbara fritchie', 'molly pitcher'), ('barbara fritchie', 'jimmy kelly'), ('barbara fritchie', 'mary mcmillan'), ('barbara fritchie', 'james kelly'), ('barbara fritchie', 'sam reisinger'), ('barbara fritchie', 'helen cabot'), ('barbara fritchie', 'nicholas rapieff'), ('barbara fritchie', 'paul spencer'), ('barbara fritchie', 'archibald forbes'), ('barbara fritchie', 'william the thoughtful'), ('patrick henry', 'angel of death'), ('patrick henry', 'angel of life'), ('patrick henry', 'dauphin of'), ('patrick henry', 'stanley woodward'), ('patrick henry', 'cousin stanley'), ('patrick henry', 'archey forbes'), ('patrick henry', 'bob mcallister'), ('patrick henry', 'mon dieu'), ('patrick henry', 'st. cecilia'), ('patrick henry', 'wally cabot'), ('patrick henry', 'walter cabot'), ('patrick henry', 'will thompson'), ('patrick henry', 'george washington'), ('patrick henry', 'mary spencer'), ('patrick henry', 'm. spencer'), ('patrick henry', 'uncle stanley'), ('patrick henry', 'burdon woodward'), ('patrick henry', 'david copperfield'), ('patrick henry', 'black jack'), ('patrick henry', 'betsey ross'), ('patrick henry', 'joan of arc'), ('patrick henry', \"ma'm maynard\"), ('patrick henry', 'james o. macpherson'), ('patrick henry', 'josiah spencers'), ('patrick henry', \"m'sieur beaucaire\"), ('patrick henry', 'don juan'), ('patrick henry', 'lieutenant cabot'), ('patrick henry', 'molly pitcher'), ('patrick henry', 'jimmy kelly'), ('patrick henry', 'mary mcmillan'), ('patrick henry', 'james kelly'), ('patrick henry', 'sam reisinger'), ('patrick henry', 'helen cabot'), ('patrick henry', 'nicholas rapieff'), ('patrick henry', 'paul spencer'), ('patrick henry', 'archibald forbes'), ('patrick henry', 'william the thoughtful'), ('angel of death', 'angel of life'), ('angel of death', 'dauphin of'), ('angel of death', 'stanley woodward'), ('angel of death', 'cousin stanley'), ('angel of death', 'archey forbes'), ('angel of death', 'bob mcallister'), ('angel of death', 'mon dieu'), ('angel of death', 'st. cecilia'), ('angel of death', 'wally cabot'), ('angel of death', 'walter cabot'), ('angel of death', 'will thompson'), ('angel of death', 'george washington'), ('angel of death', 'mary spencer'), ('angel of death', 'm. spencer'), ('angel of death', 'uncle stanley'), ('angel of death', 'burdon woodward'), ('angel of death', 'david copperfield'), ('angel of death', 'black jack'), ('angel of death', 'betsey ross'), ('angel of death', 'joan of arc'), ('angel of death', \"ma'm maynard\"), ('angel of death', 'james o. macpherson'), ('angel of death', 'josiah spencers'), ('angel of death', \"m'sieur beaucaire\"), ('angel of death', 'don juan'), ('angel of death', 'lieutenant cabot'), ('angel of death', 'molly pitcher'), ('angel of death', 'jimmy kelly'), ('angel of death', 'mary mcmillan'), ('angel of death', 'james kelly'), ('angel of death', 'sam reisinger'), ('angel of death', 'helen cabot'), ('angel of death', 'nicholas rapieff'), ('angel of death', 'paul spencer'), ('angel of death', 'archibald forbes'), ('angel of death', 'william the thoughtful'), ('angel of life', 'dauphin of'), ('angel of life', 'stanley woodward'), ('angel of life', 'cousin stanley'), ('angel of life', 'archey forbes'), ('angel of life', 'bob mcallister'), ('angel of life', 'mon dieu'), ('angel of life', 'st. cecilia'), ('angel of life', 'wally cabot'), ('angel of life', 'walter cabot'), ('angel of life', 'will thompson'), ('angel of life', 'george washington'), ('angel of life', 'mary spencer'), ('angel of life', 'm. spencer'), ('angel of life', 'uncle stanley'), ('angel of life', 'burdon woodward'), ('angel of life', 'david copperfield'), ('angel of life', 'black jack'), ('angel of life', 'betsey ross'), ('angel of life', 'joan of arc'), ('angel of life', \"ma'm maynard\"), ('angel of life', 'james o. macpherson'), ('angel of life', 'josiah spencers'), ('angel of life', \"m'sieur beaucaire\"), ('angel of life', 'don juan'), ('angel of life', 'lieutenant cabot'), ('angel of life', 'molly pitcher'), ('angel of life', 'jimmy kelly'), ('angel of life', 'mary mcmillan'), ('angel of life', 'james kelly'), ('angel of life', 'sam reisinger'), ('angel of life', 'helen cabot'), ('angel of life', 'nicholas rapieff'), ('angel of life', 'paul spencer'), ('angel of life', 'archibald forbes'), ('angel of life', 'william the thoughtful'), ('dauphin of', 'stanley woodward'), ('dauphin of', 'cousin stanley'), ('dauphin of', 'archey forbes'), ('dauphin of', 'bob mcallister'), ('dauphin of', 'mon dieu'), ('dauphin of', 'st. cecilia'), ('dauphin of', 'wally cabot'), ('dauphin of', 'walter cabot'), ('dauphin of', 'will thompson'), ('dauphin of', 'george washington'), ('dauphin of', 'mary spencer'), ('dauphin of', 'm. spencer'), ('dauphin of', 'uncle stanley'), ('dauphin of', 'burdon woodward'), ('dauphin of', 'david copperfield'), ('dauphin of', 'black jack'), ('dauphin of', 'betsey ross'), ('dauphin of', 'joan of arc'), ('dauphin of', \"ma'm maynard\"), ('dauphin of', 'james o. macpherson'), ('dauphin of', 'josiah spencers'), ('dauphin of', \"m'sieur beaucaire\"), ('dauphin of', 'don juan'), ('dauphin of', 'lieutenant cabot'), ('dauphin of', 'molly pitcher'), ('dauphin of', 'jimmy kelly'), ('dauphin of', 'mary mcmillan'), ('dauphin of', 'james kelly'), ('dauphin of', 'sam reisinger'), ('dauphin of', 'helen cabot'), ('dauphin of', 'nicholas rapieff'), ('dauphin of', 'paul spencer'), ('dauphin of', 'archibald forbes'), ('dauphin of', 'william the thoughtful'), ('stanley woodward', 'cousin stanley'), ('stanley woodward', 'archey forbes'), ('stanley woodward', 'bob mcallister'), ('stanley woodward', 'mon dieu'), ('stanley woodward', 'st. cecilia'), ('stanley woodward', 'wally cabot'), ('stanley woodward', 'walter cabot'), ('stanley woodward', 'will thompson'), ('stanley woodward', 'george washington'), ('stanley woodward', 'mary spencer'), ('stanley woodward', 'm. spencer'), ('stanley woodward', 'uncle stanley'), ('stanley woodward', 'burdon woodward'), ('stanley woodward', 'david copperfield'), ('stanley woodward', 'black jack'), ('stanley woodward', 'betsey ross'), ('stanley woodward', 'joan of arc'), ('stanley woodward', \"ma'm maynard\"), ('stanley woodward', 'james o. macpherson'), ('stanley woodward', 'josiah spencers'), ('stanley woodward', \"m'sieur beaucaire\"), ('stanley woodward', 'don juan'), ('stanley woodward', 'lieutenant cabot'), ('stanley woodward', 'molly pitcher'), ('stanley woodward', 'jimmy kelly'), ('stanley woodward', 'mary mcmillan'), ('stanley woodward', 'james kelly'), ('stanley woodward', 'sam reisinger'), ('stanley woodward', 'helen cabot'), ('stanley woodward', 'nicholas rapieff'), ('stanley woodward', 'paul spencer'), ('stanley woodward', 'archibald forbes'), ('stanley woodward', 'william the thoughtful'), ('cousin stanley', 'archey forbes'), ('cousin stanley', 'bob mcallister'), ('cousin stanley', 'mon dieu'), ('cousin stanley', 'st. cecilia'), ('cousin stanley', 'wally cabot'), ('cousin stanley', 'walter cabot'), ('cousin stanley', 'will thompson'), ('cousin stanley', 'george washington'), ('cousin stanley', 'mary spencer'), ('cousin stanley', 'm. spencer'), ('cousin stanley', 'uncle stanley'), ('cousin stanley', 'burdon woodward'), ('cousin stanley', 'david copperfield'), ('cousin stanley', 'black jack'), ('cousin stanley', 'betsey ross'), ('cousin stanley', 'joan of arc'), ('cousin stanley', \"ma'm maynard\"), ('cousin stanley', 'james o. macpherson'), ('cousin stanley', 'josiah spencers'), ('cousin stanley', \"m'sieur beaucaire\"), ('cousin stanley', 'don juan'), ('cousin stanley', 'lieutenant cabot'), ('cousin stanley', 'molly pitcher'), ('cousin stanley', 'jimmy kelly'), ('cousin stanley', 'mary mcmillan'), ('cousin stanley', 'james kelly'), ('cousin stanley', 'sam reisinger'), ('cousin stanley', 'helen cabot'), ('cousin stanley', 'nicholas rapieff'), ('cousin stanley', 'paul spencer'), ('cousin stanley', 'archibald forbes'), ('cousin stanley', 'william the thoughtful'), ('archey forbes', 'bob mcallister'), ('archey forbes', 'mon dieu'), ('archey forbes', 'st. cecilia'), ('archey forbes', 'wally cabot'), ('archey forbes', 'walter cabot'), ('archey forbes', 'will thompson'), ('archey forbes', 'george washington'), ('archey forbes', 'mary spencer'), ('archey forbes', 'm. spencer'), ('archey forbes', 'uncle stanley'), ('archey forbes', 'burdon woodward'), ('archey forbes', 'david copperfield'), ('archey forbes', 'black jack'), ('archey forbes', 'betsey ross'), ('archey forbes', 'joan of arc'), ('archey forbes', \"ma'm maynard\"), ('archey forbes', 'james o. macpherson'), ('archey forbes', 'josiah spencers'), ('archey forbes', \"m'sieur beaucaire\"), ('archey forbes', 'don juan'), ('archey forbes', 'lieutenant cabot'), ('archey forbes', 'molly pitcher'), ('archey forbes', 'jimmy kelly'), ('archey forbes', 'mary mcmillan'), ('archey forbes', 'james kelly'), ('archey forbes', 'sam reisinger'), ('archey forbes', 'helen cabot'), ('archey forbes', 'nicholas rapieff'), ('archey forbes', 'paul spencer'), ('archey forbes', 'archibald forbes'), ('archey forbes', 'william the thoughtful'), ('bob mcallister', 'mon dieu'), ('bob mcallister', 'st. cecilia'), ('bob mcallister', 'wally cabot'), ('bob mcallister', 'walter cabot'), ('bob mcallister', 'will thompson'), ('bob mcallister', 'george washington'), ('bob mcallister', 'mary spencer'), ('bob mcallister', 'm. spencer'), ('bob mcallister', 'uncle stanley'), ('bob mcallister', 'burdon woodward'), ('bob mcallister', 'david copperfield'), ('bob mcallister', 'black jack'), ('bob mcallister', 'betsey ross'), ('bob mcallister', 'joan of arc'), ('bob mcallister', \"ma'm maynard\"), ('bob mcallister', 'james o. macpherson'), ('bob mcallister', 'josiah spencers'), ('bob mcallister', \"m'sieur beaucaire\"), ('bob mcallister', 'don juan'), ('bob mcallister', 'lieutenant cabot'), ('bob mcallister', 'molly pitcher'), ('bob mcallister', 'jimmy kelly'), ('bob mcallister', 'mary mcmillan'), ('bob mcallister', 'james kelly'), ('bob mcallister', 'sam reisinger'), ('bob mcallister', 'helen cabot'), ('bob mcallister', 'nicholas rapieff'), ('bob mcallister', 'paul spencer'), ('bob mcallister', 'archibald forbes'), ('bob mcallister', 'william the thoughtful'), ('mon dieu', 'st. cecilia'), ('mon dieu', 'wally cabot'), ('mon dieu', 'walter cabot'), ('mon dieu', 'will thompson'), ('mon dieu', 'george washington'), ('mon dieu', 'mary spencer'), ('mon dieu', 'm. spencer'), ('mon dieu', 'uncle stanley'), ('mon dieu', 'burdon woodward'), ('mon dieu', 'david copperfield'), ('mon dieu', 'black jack'), ('mon dieu', 'betsey ross'), ('mon dieu', 'joan of arc'), ('mon dieu', \"ma'm maynard\"), ('mon dieu', 'james o. macpherson'), ('mon dieu', 'josiah spencers'), ('mon dieu', \"m'sieur beaucaire\"), ('mon dieu', 'don juan'), ('mon dieu', 'lieutenant cabot'), ('mon dieu', 'molly pitcher'), ('mon dieu', 'jimmy kelly'), ('mon dieu', 'mary mcmillan'), ('mon dieu', 'james kelly'), ('mon dieu', 'sam reisinger'), ('mon dieu', 'helen cabot'), ('mon dieu', 'nicholas rapieff'), ('mon dieu', 'paul spencer'), ('mon dieu', 'archibald forbes'), ('mon dieu', 'william the thoughtful'), ('st. cecilia', 'wally cabot'), ('st. cecilia', 'walter cabot'), ('st. cecilia', 'will thompson'), ('st. cecilia', 'george washington'), ('st. cecilia', 'mary spencer'), ('st. cecilia', 'm. spencer'), ('st. cecilia', 'uncle stanley'), ('st. cecilia', 'burdon woodward'), ('st. cecilia', 'david copperfield'), ('st. cecilia', 'black jack'), ('st. cecilia', 'betsey ross'), ('st. cecilia', 'joan of arc'), ('st. cecilia', \"ma'm maynard\"), ('st. cecilia', 'james o. macpherson'), ('st. cecilia', 'josiah spencers'), ('st. cecilia', \"m'sieur beaucaire\"), ('st. cecilia', 'don juan'), ('st. cecilia', 'lieutenant cabot'), ('st. cecilia', 'molly pitcher'), ('st. cecilia', 'jimmy kelly'), ('st. cecilia', 'mary mcmillan'), ('st. cecilia', 'james kelly'), ('st. cecilia', 'sam reisinger'), ('st. cecilia', 'helen cabot'), ('st. cecilia', 'nicholas rapieff'), ('st. cecilia', 'paul spencer'), ('st. cecilia', 'archibald forbes'), ('st. cecilia', 'william the thoughtful'), ('wally cabot', 'walter cabot'), ('wally cabot', 'will thompson'), ('wally cabot', 'george washington'), ('wally cabot', 'mary spencer'), ('wally cabot', 'm. spencer'), ('wally cabot', 'uncle stanley'), ('wally cabot', 'burdon woodward'), ('wally cabot', 'david copperfield'), ('wally cabot', 'black jack'), ('wally cabot', 'betsey ross'), ('wally cabot', 'joan of arc'), ('wally cabot', \"ma'm maynard\"), ('wally cabot', 'james o. macpherson'), ('wally cabot', 'josiah spencers'), ('wally cabot', \"m'sieur beaucaire\"), ('wally cabot', 'don juan'), ('wally cabot', 'lieutenant cabot'), ('wally cabot', 'molly pitcher'), ('wally cabot', 'jimmy kelly'), ('wally cabot', 'mary mcmillan'), ('wally cabot', 'james kelly'), ('wally cabot', 'sam reisinger'), ('wally cabot', 'helen cabot'), ('wally cabot', 'nicholas rapieff'), ('wally cabot', 'paul spencer'), ('wally cabot', 'archibald forbes'), ('wally cabot', 'william the thoughtful'), ('walter cabot', 'will thompson'), ('walter cabot', 'george washington'), ('walter cabot', 'mary spencer'), ('walter cabot', 'm. spencer'), ('walter cabot', 'uncle stanley'), ('walter cabot', 'burdon woodward'), ('walter cabot', 'david copperfield'), ('walter cabot', 'black jack'), ('walter cabot', 'betsey ross'), ('walter cabot', 'joan of arc'), ('walter cabot', \"ma'm maynard\"), ('walter cabot', 'james o. macpherson'), ('walter cabot', 'josiah spencers'), ('walter cabot', \"m'sieur beaucaire\"), ('walter cabot', 'don juan'), ('walter cabot', 'lieutenant cabot'), ('walter cabot', 'molly pitcher'), ('walter cabot', 'jimmy kelly'), ('walter cabot', 'mary mcmillan'), ('walter cabot', 'james kelly'), ('walter cabot', 'sam reisinger'), ('walter cabot', 'helen cabot'), ('walter cabot', 'nicholas rapieff'), ('walter cabot', 'paul spencer'), ('walter cabot', 'archibald forbes'), ('walter cabot', 'william the thoughtful'), ('will thompson', 'george washington'), ('will thompson', 'mary spencer'), ('will thompson', 'm. spencer'), ('will thompson', 'uncle stanley'), ('will thompson', 'burdon woodward'), ('will thompson', 'david copperfield'), ('will thompson', 'black jack'), ('will thompson', 'betsey ross'), ('will thompson', 'joan of arc'), ('will thompson', \"ma'm maynard\"), ('will thompson', 'james o. macpherson'), ('will thompson', 'josiah spencers'), ('will thompson', \"m'sieur beaucaire\"), ('will thompson', 'don juan'), ('will thompson', 'lieutenant cabot'), ('will thompson', 'molly pitcher'), ('will thompson', 'jimmy kelly'), ('will thompson', 'mary mcmillan'), ('will thompson', 'james kelly'), ('will thompson', 'sam reisinger'), ('will thompson', 'helen cabot'), ('will thompson', 'nicholas rapieff'), ('will thompson', 'paul spencer'), ('will thompson', 'archibald forbes'), ('will thompson', 'william the thoughtful'), ('george washington', 'mary spencer'), ('george washington', 'm. spencer'), ('george washington', 'uncle stanley'), ('george washington', 'burdon woodward'), ('george washington', 'david copperfield'), ('george washington', 'black jack'), ('george washington', 'betsey ross'), ('george washington', 'joan of arc'), ('george washington', \"ma'm maynard\"), ('george washington', 'james o. macpherson'), ('george washington', 'josiah spencers'), ('george washington', \"m'sieur beaucaire\"), ('george washington', 'don juan'), ('george washington', 'lieutenant cabot'), ('george washington', 'molly pitcher'), ('george washington', 'jimmy kelly'), ('george washington', 'mary mcmillan'), ('george washington', 'james kelly'), ('george washington', 'sam reisinger'), ('george washington', 'helen cabot'), ('george washington', 'nicholas rapieff'), ('george washington', 'paul spencer'), ('george washington', 'archibald forbes'), ('george washington', 'william the thoughtful'), ('mary spencer', 'm. spencer'), ('mary spencer', 'uncle stanley'), ('mary spencer', 'burdon woodward'), ('mary spencer', 'david copperfield'), ('mary spencer', 'black jack'), ('mary spencer', 'betsey ross'), ('mary spencer', 'joan of arc'), ('mary spencer', \"ma'm maynard\"), ('mary spencer', 'james o. macpherson'), ('mary spencer', 'josiah spencers'), ('mary spencer', \"m'sieur beaucaire\"), ('mary spencer', 'don juan'), ('mary spencer', 'lieutenant cabot'), ('mary spencer', 'molly pitcher'), ('mary spencer', 'jimmy kelly'), ('mary spencer', 'mary mcmillan'), ('mary spencer', 'james kelly'), ('mary spencer', 'sam reisinger'), ('mary spencer', 'helen cabot'), ('mary spencer', 'nicholas rapieff'), ('mary spencer', 'paul spencer'), ('mary spencer', 'archibald forbes'), ('mary spencer', 'william the thoughtful'), ('m. spencer', 'uncle stanley'), ('m. spencer', 'burdon woodward'), ('m. spencer', 'david copperfield'), ('m. spencer', 'black jack'), ('m. spencer', 'betsey ross'), ('m. spencer', 'joan of arc'), ('m. spencer', \"ma'm maynard\"), ('m. spencer', 'james o. macpherson'), ('m. spencer', 'josiah spencers'), ('m. spencer', \"m'sieur beaucaire\"), ('m. spencer', 'don juan'), ('m. spencer', 'lieutenant cabot'), ('m. spencer', 'molly pitcher'), ('m. spencer', 'jimmy kelly'), ('m. spencer', 'mary mcmillan'), ('m. spencer', 'james kelly'), ('m. spencer', 'sam reisinger'), ('m. spencer', 'helen cabot'), ('m. spencer', 'nicholas rapieff'), ('m. spencer', 'paul spencer'), ('m. spencer', 'archibald forbes'), ('m. spencer', 'william the thoughtful'), ('uncle stanley', 'burdon woodward'), ('uncle stanley', 'david copperfield'), ('uncle stanley', 'black jack'), ('uncle stanley', 'betsey ross'), ('uncle stanley', 'joan of arc'), ('uncle stanley', \"ma'm maynard\"), ('uncle stanley', 'james o. macpherson'), ('uncle stanley', 'josiah spencers'), ('uncle stanley', \"m'sieur beaucaire\"), ('uncle stanley', 'don juan'), ('uncle stanley', 'lieutenant cabot'), ('uncle stanley', 'molly pitcher'), ('uncle stanley', 'jimmy kelly'), ('uncle stanley', 'mary mcmillan'), ('uncle stanley', 'james kelly'), ('uncle stanley', 'sam reisinger'), ('uncle stanley', 'helen cabot'), ('uncle stanley', 'nicholas rapieff'), ('uncle stanley', 'paul spencer'), ('uncle stanley', 'archibald forbes'), ('uncle stanley', 'william the thoughtful'), ('burdon woodward', 'david copperfield'), ('burdon woodward', 'black jack'), ('burdon woodward', 'betsey ross'), ('burdon woodward', 'joan of arc'), ('burdon woodward', \"ma'm maynard\"), ('burdon woodward', 'james o. macpherson'), ('burdon woodward', 'josiah spencers'), ('burdon woodward', \"m'sieur beaucaire\"), ('burdon woodward', 'don juan'), ('burdon woodward', 'lieutenant cabot'), ('burdon woodward', 'molly pitcher'), ('burdon woodward', 'jimmy kelly'), ('burdon woodward', 'mary mcmillan'), ('burdon woodward', 'james kelly'), ('burdon woodward', 'sam reisinger'), ('burdon woodward', 'helen cabot'), ('burdon woodward', 'nicholas rapieff'), ('burdon woodward', 'paul spencer'), ('burdon woodward', 'archibald forbes'), ('burdon woodward', 'william the thoughtful'), ('david copperfield', 'black jack'), ('david copperfield', 'betsey ross'), ('david copperfield', 'joan of arc'), ('david copperfield', \"ma'm maynard\"), ('david copperfield', 'james o. macpherson'), ('david copperfield', 'josiah spencers'), ('david copperfield', \"m'sieur beaucaire\"), ('david copperfield', 'don juan'), ('david copperfield', 'lieutenant cabot'), ('david copperfield', 'molly pitcher'), ('david copperfield', 'jimmy kelly'), ('david copperfield', 'mary mcmillan'), ('david copperfield', 'james kelly'), ('david copperfield', 'sam reisinger'), ('david copperfield', 'helen cabot'), ('david copperfield', 'nicholas rapieff'), ('david copperfield', 'paul spencer'), ('david copperfield', 'archibald forbes'), ('david copperfield', 'william the thoughtful'), ('black jack', 'betsey ross'), ('black jack', 'joan of arc'), ('black jack', \"ma'm maynard\"), ('black jack', 'james o. macpherson'), ('black jack', 'josiah spencers'), ('black jack', \"m'sieur beaucaire\"), ('black jack', 'don juan'), ('black jack', 'lieutenant cabot'), ('black jack', 'molly pitcher'), ('black jack', 'jimmy kelly'), ('black jack', 'mary mcmillan'), ('black jack', 'james kelly'), ('black jack', 'sam reisinger'), ('black jack', 'helen cabot'), ('black jack', 'nicholas rapieff'), ('black jack', 'paul spencer'), ('black jack', 'archibald forbes'), ('black jack', 'william the thoughtful'), ('betsey ross', 'joan of arc'), ('betsey ross', \"ma'm maynard\"), ('betsey ross', 'james o. macpherson'), ('betsey ross', 'josiah spencers'), ('betsey ross', \"m'sieur beaucaire\"), ('betsey ross', 'don juan'), ('betsey ross', 'lieutenant cabot'), ('betsey ross', 'molly pitcher'), ('betsey ross', 'jimmy kelly'), ('betsey ross', 'mary mcmillan'), ('betsey ross', 'james kelly'), ('betsey ross', 'sam reisinger'), ('betsey ross', 'helen cabot'), ('betsey ross', 'nicholas rapieff'), ('betsey ross', 'paul spencer'), ('betsey ross', 'archibald forbes'), ('betsey ross', 'william the thoughtful'), ('joan of arc', \"ma'm maynard\"), ('joan of arc', 'james o. macpherson'), ('joan of arc', 'josiah spencers'), ('joan of arc', \"m'sieur beaucaire\"), ('joan of arc', 'don juan'), ('joan of arc', 'lieutenant cabot'), ('joan of arc', 'molly pitcher'), ('joan of arc', 'jimmy kelly'), ('joan of arc', 'mary mcmillan'), ('joan of arc', 'james kelly'), ('joan of arc', 'sam reisinger'), ('joan of arc', 'helen cabot'), ('joan of arc', 'nicholas rapieff'), ('joan of arc', 'paul spencer'), ('joan of arc', 'archibald forbes'), ('joan of arc', 'william the thoughtful'), (\"ma'm maynard\", 'james o. macpherson'), (\"ma'm maynard\", 'josiah spencers'), (\"ma'm maynard\", \"m'sieur beaucaire\"), (\"ma'm maynard\", 'don juan'), (\"ma'm maynard\", 'lieutenant cabot'), (\"ma'm maynard\", 'molly pitcher'), (\"ma'm maynard\", 'jimmy kelly'), (\"ma'm maynard\", 'mary mcmillan'), (\"ma'm maynard\", 'james kelly'), (\"ma'm maynard\", 'sam reisinger'), (\"ma'm maynard\", 'helen cabot'), (\"ma'm maynard\", 'nicholas rapieff'), (\"ma'm maynard\", 'paul spencer'), (\"ma'm maynard\", 'archibald forbes'), (\"ma'm maynard\", 'william the thoughtful'), ('james o. macpherson', 'josiah spencers'), ('james o. macpherson', \"m'sieur beaucaire\"), ('james o. macpherson', 'don juan'), ('james o. macpherson', 'lieutenant cabot'), ('james o. macpherson', 'molly pitcher'), ('james o. macpherson', 'jimmy kelly'), ('james o. macpherson', 'mary mcmillan'), ('james o. macpherson', 'james kelly'), ('james o. macpherson', 'sam reisinger'), ('james o. macpherson', 'helen cabot'), ('james o. macpherson', 'nicholas rapieff'), ('james o. macpherson', 'paul spencer'), ('james o. macpherson', 'archibald forbes'), ('james o. macpherson', 'william the thoughtful'), ('josiah spencers', \"m'sieur beaucaire\"), ('josiah spencers', 'don juan'), ('josiah spencers', 'lieutenant cabot'), ('josiah spencers', 'molly pitcher'), ('josiah spencers', 'jimmy kelly'), ('josiah spencers', 'mary mcmillan'), ('josiah spencers', 'james kelly'), ('josiah spencers', 'sam reisinger'), ('josiah spencers', 'helen cabot'), ('josiah spencers', 'nicholas rapieff'), ('josiah spencers', 'paul spencer'), ('josiah spencers', 'archibald forbes'), ('josiah spencers', 'william the thoughtful'), (\"m'sieur beaucaire\", 'don juan'), (\"m'sieur beaucaire\", 'lieutenant cabot'), (\"m'sieur beaucaire\", 'molly pitcher'), (\"m'sieur beaucaire\", 'jimmy kelly'), (\"m'sieur beaucaire\", 'mary mcmillan'), (\"m'sieur beaucaire\", 'james kelly'), (\"m'sieur beaucaire\", 'sam reisinger'), (\"m'sieur beaucaire\", 'helen cabot'), (\"m'sieur beaucaire\", 'nicholas rapieff'), (\"m'sieur beaucaire\", 'paul spencer'), (\"m'sieur beaucaire\", 'archibald forbes'), (\"m'sieur beaucaire\", 'william the thoughtful'), ('don juan', 'lieutenant cabot'), ('don juan', 'molly pitcher'), ('don juan', 'jimmy kelly'), ('don juan', 'mary mcmillan'), ('don juan', 'james kelly'), ('don juan', 'sam reisinger'), ('don juan', 'helen cabot'), ('don juan', 'nicholas rapieff'), ('don juan', 'paul spencer'), ('don juan', 'archibald forbes'), ('don juan', 'william the thoughtful'), ('lieutenant cabot', 'molly pitcher'), ('lieutenant cabot', 'jimmy kelly'), ('lieutenant cabot', 'mary mcmillan'), ('lieutenant cabot', 'james kelly'), ('lieutenant cabot', 'sam reisinger'), ('lieutenant cabot', 'helen cabot'), ('lieutenant cabot', 'nicholas rapieff'), ('lieutenant cabot', 'paul spencer'), ('lieutenant cabot', 'archibald forbes'), ('lieutenant cabot', 'william the thoughtful'), ('molly pitcher', 'jimmy kelly'), ('molly pitcher', 'mary mcmillan'), ('molly pitcher', 'james kelly'), ('molly pitcher', 'sam reisinger'), ('molly pitcher', 'helen cabot'), ('molly pitcher', 'nicholas rapieff'), ('molly pitcher', 'paul spencer'), ('molly pitcher', 'archibald forbes'), ('molly pitcher', 'william the thoughtful'), ('jimmy kelly', 'mary mcmillan'), ('jimmy kelly', 'james kelly'), ('jimmy kelly', 'sam reisinger'), ('jimmy kelly', 'helen cabot'), ('jimmy kelly', 'nicholas rapieff'), ('jimmy kelly', 'paul spencer'), ('jimmy kelly', 'archibald forbes'), ('jimmy kelly', 'william the thoughtful'), ('mary mcmillan', 'james kelly'), ('mary mcmillan', 'sam reisinger'), ('mary mcmillan', 'helen cabot'), ('mary mcmillan', 'nicholas rapieff'), ('mary mcmillan', 'paul spencer'), ('mary mcmillan', 'archibald forbes'), ('mary mcmillan', 'william the thoughtful'), ('james kelly', 'sam reisinger'), ('james kelly', 'helen cabot'), ('james kelly', 'nicholas rapieff'), ('james kelly', 'paul spencer'), ('james kelly', 'archibald forbes'), ('james kelly', 'william the thoughtful'), ('sam reisinger', 'helen cabot'), ('sam reisinger', 'nicholas rapieff'), ('sam reisinger', 'paul spencer'), ('sam reisinger', 'archibald forbes'), ('sam reisinger', 'william the thoughtful'), ('helen cabot', 'nicholas rapieff'), ('helen cabot', 'paul spencer'), ('helen cabot', 'archibald forbes'), ('helen cabot', 'william the thoughtful'), ('nicholas rapieff', 'paul spencer'), ('nicholas rapieff', 'archibald forbes'), ('nicholas rapieff', 'william the thoughtful'), ('paul spencer', 'archibald forbes'), ('paul spencer', 'william the thoughtful'), ('archibald forbes', 'william the thoughtful')]\n"
     ]
    }
   ],
   "source": [
    "from itertools import combinations\n",
    "\n",
    "combinations_list = list(combinations(multiple_token_candidates, 2))\n",
    "\n",
    "print(combinations_list)"
   ]
  },
  {
   "cell_type": "code",
   "execution_count": 28,
   "metadata": {},
   "outputs": [
    {
     "name": "stdout",
     "output_type": "stream",
     "text": [
      "[('josiah', 'josiah spencer'), ('josiah', 'josiah spencers'), ('spencers', 'josiah spencers'), ('spencer', 'josiah spencer'), ('spencer', 'abner spencer'), ('spencer', 'm. spencer'), ('spencer', 'paul spencer'), ('abner spicer', 'abner spencer'), ('abner spicer', 'spicer'), ('josiah spencer', 'abner spencer'), ('josiah spencer', 'm. spencer'), ('josiah spencer', 'josiah spencers'), ('josiah spencer', 'paul spencer'), ('martha berger', 'martha'), ('abner spencer', 'm. spencer'), ('abner spencer', 'paul spencer'), ('angel of death', 'angel of life'), ('mary', 'mary spencer'), ('mary', 'mary mcmillan'), ('maynard', \"ma'm maynard\"), ('woodward', 'stanley woodward'), ('woodward', 'burdon woodward'), ('stanley woodward', 'cousin stanley'), ('stanley woodward', 'stanley'), ('stanley woodward', 'uncle stanley'), ('stanley woodward', 'burdon woodward'), ('cousin stanley', 'stanley'), ('cousin stanley', 'uncle stanley'), ('stanley', 'uncle stanley'), ('burdon', 'burdon woodward'), ('archey forbes', 'archey'), ('archey forbes', 'forbes'), ('archey forbes', 'archibald forbes'), ('helen', 'helen cabot'), ('bob mcallister', 'mcallister'), (\"ma'm\", \"ma'm maynard\"), ('wally', 'wally cabot'), ('james', 'james o. macpherson'), ('james', 'james kelly'), ('wally cabot', 'walter cabot'), ('wally cabot', 'lieutenant cabot'), ('wally cabot', 'cabot'), ('wally cabot', 'helen cabot'), ('paul', 'paul spencer'), ('walter cabot', 'lieutenant cabot'), ('walter cabot', 'cabot'), ('walter cabot', 'helen cabot'), ('washington', 'george washington'), ('mary spencer', 'mary mcmillan'), ('m. spencer', 'paul spencer'), ('uncle stanley', 'uncle'), ('black jack', 'jack'), ('betsey ross', 'betsey'), ('macpherson', 'james o. macpherson'), ('james o. macpherson', 'james kelly'), ('lieutenant cabot', 'cabot'), ('lieutenant cabot', 'helen cabot'), ('kelly', 'jimmy kelly'), ('kelly', 'james kelly'), ('forbes', 'archibald forbes'), ('jimmy kelly', 'jimmy'), ('jimmy kelly', 'james kelly'), ('reisinger', 'sam reisinger'), ('cabot', 'helen cabot')]\n"
     ]
    }
   ],
   "source": [
    "from itertools import combinations\n",
    "from story_wrapper.models import Occurrence\n",
    "\n",
    "def filter_relevant_combinations(occurrences_by_text: dict, candidates: list) -> list:\n",
    "    \"\"\"\n",
    "    Filter out combinations of candidates where no tokens match.\n",
    "    \n",
    "    Args:\n",
    "    - occurrences_by_text (dict): The dictionary mapping occurrence texts to a list of Occurrence objects.\n",
    "    - candidates (list): The list of candidate characters.\n",
    "    \n",
    "    Returns:\n",
    "    - list: A filtered list of relevant combinations.\n",
    "    \"\"\"\n",
    "    relevant_combinations = []\n",
    "    excluded_pos = [\"DET\", \"PART\", \"ADP\"]\n",
    "    \n",
    "    # Generate all combinations of 2 candidates\n",
    "    for candidate1, candidate2 in combinations(candidates, 2):\n",
    "        span1 = occurrences_by_text[candidate1][0].span\n",
    "        span2 = occurrences_by_text[candidate2][0].span\n",
    "        \n",
    "        tokens1 = {token.lower_ for token in span1 if token.pos_ not in excluded_pos}\n",
    "        tokens2 = {token.lower_ for token in span2 if token.pos_ not in excluded_pos}\n",
    "        \n",
    "        # Check if there are any common tokens\n",
    "        if tokens1.intersection(tokens2):\n",
    "            relevant_combinations.append((candidate1, candidate2))\n",
    "            \n",
    "    return relevant_combinations\n",
    "\n",
    "# Example\n",
    "\n",
    "candidates = list(occurrences_by_text.keys())\n",
    "filtered_combinations = filter_relevant_combinations(occurrences_by_text, candidates)\n",
    "\n",
    "print(filtered_combinations)\n"
   ]
  },
  {
   "cell_type": "markdown",
   "metadata": {},
   "source": [
    "So these combinations represent potential matches?\n",
    "\n",
    "First we could look for where the number of tokens match and there is a match in nicknames for the first name."
   ]
  },
  {
   "cell_type": "code",
   "execution_count": null,
   "metadata": {},
   "outputs": [],
   "source": [
    "for candidate_1, candidate_2 in filtered_combinations:\n",
    "    # We might want to use split here as span may still have \"the\", \"of\", and \"'s'\"\n",
    "    tokens = candidate_1.split()\n",
    "    tokens = candidate_2.split()\n",
    "    "
   ]
  },
  {
   "cell_type": "code",
   "execution_count": 29,
   "metadata": {},
   "outputs": [
    {
     "data": {
      "text/plain": [
       "[<Occurrence - text index: 14; span: Abner Spicer>]"
      ]
     },
     "execution_count": 29,
     "metadata": {},
     "output_type": "execute_result"
    }
   ],
   "source": [
    "occurrences_by_text['abner spicer']"
   ]
  },
  {
   "cell_type": "code",
   "execution_count": 34,
   "metadata": {},
   "outputs": [
    {
     "data": {
      "text/plain": [
       "[<Occurrence - text index: 40; span: Abner Spencer>]"
      ]
     },
     "execution_count": 34,
     "metadata": {},
     "output_type": "execute_result"
    }
   ],
   "source": [
    "occurrences_by_text['abner spencer']"
   ]
  },
  {
   "cell_type": "code",
   "execution_count": 35,
   "metadata": {},
   "outputs": [
    {
     "data": {
      "text/plain": [
       "'Almost speaking in concert they told him about Captain Abner Spencer who had children until he was sixty, and Ezra Babcock, father-in-law of the third Josiah Spencer, who had a son proudly born to him in his sixty-fourth year.'"
      ]
     },
     "execution_count": 35,
     "metadata": {},
     "output_type": "execute_result"
    }
   ],
   "source": [
    "story.text[40]"
   ]
  },
  {
   "cell_type": "code",
   "execution_count": 31,
   "metadata": {},
   "outputs": [
    {
     "data": {
      "text/plain": [
       "'\"I wonder if Josiah--is too old--to marry again! Of course,\" she hurriedly added, \"he is fifty-two--but it seems to me that one of the Spicers--I think it was Captain Abner Spicer--had children until he was sixty--although by a younger wife, of course.\"'"
      ]
     },
     "execution_count": 31,
     "metadata": {},
     "output_type": "execute_result"
    }
   ],
   "source": [
    "story.text[14]"
   ]
  },
  {
   "cell_type": "code",
   "execution_count": 36,
   "metadata": {
    "scrolled": true
   },
   "outputs": [
    {
     "data": {
      "text/plain": [
       "['And so they sat looking at each other, intently, almost breathlessly, each suddenly moved by the same question and each wishing that the other would speak.',\n",
       " 'For the second time it was Cordelia who broke the silence.',\n",
       " '\"Patty--!\"',\n",
       " '\"Yes, dear?\" breathed Patty, and left her lips slightly parted.',\n",
       " '\"I wonder if Josiah--is too old--to marry again! Of course,\" she hurriedly added, \"he is fifty-two--but it seems to me that one of the Spicers--I think it was Captain Abner Spicer--had children until he was sixty--although by a younger wife, of course.\"',\n",
       " 'They looked it up and in so doing they came across an Ezra Babcock, father-in-law of the Third Josiah Spencer, who had had a son proudly born to him in his sixty-fourth year.',\n",
       " 'They gazed at each other then, those two maiden sisters, like two conspirators in their precious innocence.',\n",
       " '\"If we could find Josiah a young wife--\" said the elder at last.',\n",
       " '\"Oh, Cordelia!\" breathed Patty, \"if, indeed, we only could!\"',\n",
       " 'Which was really how it started.',\n",
       " 'As I think you will realize, it would be a story in itself to describe the progress of that gentle intrigue--the consultations, the gradual eliminations, the search, the abandonment of the search--(which came immediately after learning of two elderly gentlemen with young wives--but no children!)--the almost immediate resumption of the quest because of Josiah\\'s failing health--and finally then the reward of patience, the pious nudge one Sunday morning in church, the whispered \"Look, Cordelia, that strange girl with the Pearsons--no, the one with the red cheeks--yes, that one!\"--the exchange of significant glances, the introduction, the invitation and last, but least, the verification of the fruitfulness of the vine.',\n",
       " \"The girl's name was Martha Berger and her home was in California. She had come east to attend the wedding of her brother and was now staying with the Pearsons a few weeks before returning west. Her age was twenty-six. She had no parents, very little money, and taught French, English and Science in the high school back home.\",\n",
       " '\"Have you any brothers or sisters!\" asked Miss Cordelia, with a side glance toward Miss Patty.',\n",
       " '\"Only five brothers and five sisters,\" laughed Martha.',\n",
       " 'For a moment it might be said that Miss Cordelia purred.',\n",
       " '\"Any of them married?\" she continued.',\n",
       " '\"All but me.\"',\n",
       " '\"My dear! ... You don\\'t mean to say that they have made you an aunt already?\"',\n",
       " 'Martha paused with that inward look which generally accompanies mental arithmetic.',\n",
       " '\"Only about seventeen times,\" she finally laughed again.',\n",
       " 'When their guest had gone, the two sisters fairly danced around each other.',\n",
       " '\"Oh, Patty!\" exulted Miss Cordelia, \"I\\'m sure she\\'s a fruitful vine!\"',\n",
       " 'There is something inexorable in the purpose of a maiden lady--perhaps because she has no minor domestic troubles to distract her; and when you have two maiden ladies working on the same problem, and both of them possessed of wealth and unusual intelligence--!',\n",
       " \"They started by taking Martha to North East Harbor for the balance of the summer, and then to keep her from going west in the fall, they engaged her to teach them French that winter at quite a fabulous salary. They also took her to Boston and bought her some of the prettiest dresses imaginable; and the longer they knew her, the more they liked her; and the more they liked her, the more they tried to enlist her sympathies in behalf of poor Josiah--and the more they tried to throw their brother into Martha's private company.\",\n",
       " '\"Look here,\" he said one day, when his two sisters were pushing him too hard. \"What\\'s all this excitement about Martha? Who is she, anyway?\"',\n",
       " '\"Why, don\\'t you know!\" Cordelia sweetly asked him, and drawing a full breath she added: \"Martha--is--your--future--wife--\"',\n",
       " 'If you had been there, you would have been pardoned for thinking that the last of the Spencers had suddenly discovered that he was sitting upon a remonstrative bee.',\n",
       " 'The two sisters smiled at him--rather nervously, it is true, but still they kept their hands upon their brother\\'s shoulders, as though they were two nurses soothing a patient and saying: \"There, now ... The-e-e-ere ... Just be quiet and you\\'ll feel better in a little while.\"',\n",
       " '\"Yes, dear,\" whispered Cordelia, her mouth ever so close to his ear. \"Your future wife--and the mother of your future children--\"',\n",
       " '\"Nonsense, nonsense--\" muttered Josiah, breaking away quite flustered. \"I\\'m--I\\'m too old--\"',\n",
       " 'Almost speaking in concert they told him about Captain Abner Spencer who had children until he was sixty, and Ezra Babcock, father-in-law of the third Josiah Spencer, who had a son proudly born to him in his sixty-fourth year.',\n",
       " '\"And she\\'s such a lovely girl,\" said Cordelia earnestly. \"Patty and I are quite in love with her ourselves--\"',\n",
       " '\"And think what it would mean to your peace of mind to have another son--\"',\n",
       " '\"And what it would mean to Spencer & Son--!\"',\n",
       " \"Josiah groaned at that. As a matter of fact he hadn't a chance to escape. His two sisters had never allowed themselves to be courted, but they must have had their private ideas of how such affairs should be conducted, for they took Josiah in hand and put him through his paces with a speed which can only be described as breathless.\",\n",
       " 'Flowers, candy, books, jewellery, a ring, the ring--the two maiden sisters lived a winter of such romance that they nearly bloomed into youth again themselves; and whenever Josiah had the least misgiving about a man of fifty-two marrying a girl of twenty-six, they whispered to him: \"Think what it will mean to Spencer & Son--\" And whenever Martha showed the least misgivings they whispered to her: \"That\\'s only his way, my dear; you mustn\\'t mind that.\" And once Cordelia added (while Patty nodded her head): \"Of course, there has to be a man at a wedding, but I want you to feel that you would be marrying us, as much as you would be marrying Josiah. You would be his wife, of course, but you would be our little sister, too; and Patty and I would make you just as happy as we could--\"',\n",
       " 'Later they were glad they had told her this.',\n",
       " 'It was a quiet wedding and for a time nothing happened; although if you could have seen the two maiden sisters at church on a Sunday morning, you would have noticed that after the benediction they seemed to be praying very earnestly indeed--even as Sarah prayed in the temple so many years ago. There was this curious difference, however: Sarah had prayed for herself, but these two innocent spinsters were praying for another.',\n",
       " 'Then one morning, never to be forgotten, Martha thought to herself at the breakfast table, \"I\\'ll tell them as soon as breakfast is over.\"',\n",
       " \"But she didn't.\"]"
      ]
     },
     "execution_count": 36,
     "metadata": {},
     "output_type": "execute_result"
    }
   ],
   "source": [
    "story.text[10:50]"
   ]
  },
  {
   "cell_type": "markdown",
   "metadata": {},
   "source": [
    "Looks like in this story \"spicer\" is a typo...."
   ]
  },
  {
   "cell_type": "code",
   "execution_count": 32,
   "metadata": {},
   "outputs": [
    {
     "data": {
      "text/plain": [
       "[<Occurrence - text index: 195; span: Spicer>,\n",
       " <Occurrence - text index: 310; span: Spicer>]"
      ]
     },
     "execution_count": 32,
     "metadata": {},
     "output_type": "execute_result"
    }
   ],
   "source": [
    "occurrences_by_text['spicer']"
   ]
  },
  {
   "cell_type": "code",
   "execution_count": 33,
   "metadata": {},
   "outputs": [
    {
     "data": {
      "text/plain": [
       "('In looking up the genealogy of the Spicer family, Miss Patty discovered that a distant relative in Charleston had just died, leaving a daughter behind him--an orphan--who was a year older than Mary. Correspondence finally led Miss Patty to make the journey, and when she returned she brought with her a dark-eyed girl who might have been the very spirit of youthful romance.',\n",
       " 'To college! A Spencer girl--or a Spicer--going to college! Miss Cordelia gasped. If Mary had been noticing, she might not have pursued her inspiration further, but her mind was running along a breathless panorama of Niagara Falls, Great Lakes, Chicago, the farms of the Middle West, Yellowstone Park, geysers, the Old Man of the Mountain, Aztec ruins, redwood forests, orange groves and at the end of the vista--like a statue at the end of a garden walk--she imagined a great democratic institution of learning where one might conceivably be prepared to solve some of those problems which life seems to take such deep delight in presenting to us, with the grim command, \"Not one step farther shall you go until you have answered this!\"')"
      ]
     },
     "execution_count": 33,
     "metadata": {},
     "output_type": "execute_result"
    }
   ],
   "source": [
    "story.text[195], story.text[310]"
   ]
  },
  {
   "cell_type": "code",
   "execution_count": 21,
   "metadata": {},
   "outputs": [
    {
     "name": "stdout",
     "output_type": "stream",
     "text": [
      "wally cabot\n",
      "burdon woodward\n",
      "ma'm maynard\n",
      "ma'm maynard\n",
      "ma'm maynard\n",
      "m'sieur beaucaire\n"
     ]
    }
   ],
   "source": [
    "for key, occurrences in occurrences_by_text.items():\n",
    "    for o in occurrences:\n",
    "        if \"'s\" in o.span.text:\n",
    "            print(key)"
   ]
  },
  {
   "cell_type": "code",
   "execution_count": 25,
   "metadata": {},
   "outputs": [
    {
     "name": "stdout",
     "output_type": "stream",
     "text": [
      "PROPN\n",
      "PROPN\n",
      "PART\n"
     ]
    }
   ],
   "source": [
    "for t in occurrences_by_text['wally cabot'][5].span:\n",
    "    print(t.pos_)"
   ]
  },
  {
   "cell_type": "code",
   "execution_count": null,
   "metadata": {},
   "outputs": [],
   "source": []
  },
  {
   "cell_type": "code",
   "execution_count": 17,
   "metadata": {},
   "outputs": [
    {
     "data": {
      "text/plain": [
       "[<Occurrence - text index: 1769; span: William the Thoughtful>]"
      ]
     },
     "execution_count": 17,
     "metadata": {},
     "output_type": "execute_result"
    }
   ],
   "source": [
    "occurrences_by_text['william the thoughtful']"
   ]
  },
  {
   "cell_type": "code",
   "execution_count": 18,
   "metadata": {},
   "outputs": [
    {
     "data": {
      "text/plain": [
       "[<Occurrence - text index: 80; span: the Angel of Death>]"
      ]
     },
     "execution_count": 18,
     "metadata": {},
     "output_type": "execute_result"
    }
   ],
   "source": [
    "occurrences_by_text['angel of death']"
   ]
  },
  {
   "cell_type": "code",
   "execution_count": 19,
   "metadata": {},
   "outputs": [
    {
     "data": {
      "text/plain": [
       "'DET'"
      ]
     },
     "execution_count": 19,
     "metadata": {},
     "output_type": "execute_result"
    }
   ],
   "source": [
    "occurrences_by_text['angel of death'][0].span[0].pos_"
   ]
  },
  {
   "cell_type": "code",
   "execution_count": 27,
   "metadata": {},
   "outputs": [
    {
     "data": {
      "text/plain": [
       "'ADP'"
      ]
     },
     "execution_count": 27,
     "metadata": {},
     "output_type": "execute_result"
    }
   ],
   "source": [
    "occurrences_by_text['angel of death'][0].span[2].pos_"
   ]
  },
  {
   "cell_type": "code",
   "execution_count": 20,
   "metadata": {},
   "outputs": [
    {
     "data": {
      "text/plain": [
       "'DET'"
      ]
     },
     "execution_count": 20,
     "metadata": {},
     "output_type": "execute_result"
    }
   ],
   "source": [
    "occurrences_by_text['william the thoughtful'][0].span[1].pos_"
   ]
  },
  {
   "cell_type": "code",
   "execution_count": 37,
   "metadata": {},
   "outputs": [
    {
     "name": "stdout",
     "output_type": "stream",
     "text": [
      "[('abner spicer', 'abner spencer'), ('josiah spencer', 'abner spencer'), ('josiah spencer', 'm. spencer'), ('josiah spencer', 'josiah spencers'), ('josiah spencer', 'paul spencer'), ('abner spencer', 'm. spencer'), ('abner spencer', 'paul spencer'), ('angel of death', 'angel of life'), ('stanley woodward', 'cousin stanley'), ('stanley woodward', 'uncle stanley'), ('stanley woodward', 'burdon woodward'), ('cousin stanley', 'uncle stanley'), ('archey forbes', 'archibald forbes'), ('wally cabot', 'walter cabot'), ('wally cabot', 'lieutenant cabot'), ('wally cabot', 'helen cabot'), ('walter cabot', 'lieutenant cabot'), ('walter cabot', 'helen cabot'), ('mary spencer', 'mary mcmillan'), ('m. spencer', 'paul spencer'), ('james o. macpherson', 'james kelly'), ('lieutenant cabot', 'helen cabot'), ('jimmy kelly', 'james kelly')]\n"
     ]
    }
   ],
   "source": [
    "filtered_2 = filter_relevant_combinations(occurrences_by_text, multiple_token_candidates); print(filtered_2)"
   ]
  },
  {
   "cell_type": "markdown",
   "metadata": {},
   "source": [
    "Do we create a Character candidate from every \"multiple_token_candidates\"?\n",
    "\n",
    "They all look valid - for a few we need to merge but we can then work at the Character level."
   ]
  },
  {
   "cell_type": "code",
   "execution_count": 40,
   "metadata": {},
   "outputs": [],
   "source": [
    "from story_wrapper.models import Character"
   ]
  },
  {
   "cell_type": "code",
   "execution_count": 43,
   "metadata": {},
   "outputs": [],
   "source": [
    "story.potential_characters = []\n",
    "for candidate in multiple_token_candidates:\n",
    "    new_character = Character()\n",
    "    new_character.name = candidate\n",
    "    new_character.add_occurrences(occurrences_by_text[candidate])\n",
    "    splits = candidate.split()\n",
    "    if len(splits) > 1:\n",
    "        new_character.first_name = splits[0]\n",
    "        new_character.surname = splits[-1]\n",
    "        if len(splits) > 2:\n",
    "            new_character.middle_names = splits[1:-1]\n",
    "    story.potential_characters.append(new_character)"
   ]
  },
  {
   "cell_type": "code",
   "execution_count": 44,
   "metadata": {},
   "outputs": [
    {
     "data": {
      "text/plain": [
       "[<Character - ID: 8729713626971; name: abner spicer>,\n",
       " <Character - ID: 8729713626239; name: ezra babcock>,\n",
       " <Character - ID: 8729713627121; name: josiah spencer>,\n",
       " <Character - ID: 8729713626905; name: martha berger>,\n",
       " <Character - ID: 8729713627013; name: abner spencer>,\n",
       " <Character - ID: 8729713626923; name: barbara fritchie>,\n",
       " <Character - ID: 8729713627001; name: patrick henry>,\n",
       " <Character - ID: 8729713545724; name: angel of death>,\n",
       " <Character - ID: 8729713545703; name: angel of life>,\n",
       " <Character - ID: 8729713545580; name: dauphin of>,\n",
       " <Character - ID: 8729713545799; name: stanley woodward>,\n",
       " <Character - ID: 8729713545817; name: cousin stanley>,\n",
       " <Character - ID: 8729713545796; name: archey forbes>,\n",
       " <Character - ID: 8729713545754; name: bob mcallister>,\n",
       " <Character - ID: 8729713545544; name: mon dieu>,\n",
       " <Character - ID: 8729713545490; name: st. cecilia>,\n",
       " <Character - ID: 8729713545553; name: wally cabot>,\n",
       " <Character - ID: 8729713545571; name: walter cabot>,\n",
       " <Character - ID: 8729713545823; name: will thompson>,\n",
       " <Character - ID: 8729713545862; name: george washington>,\n",
       " <Character - ID: 8729713545619; name: mary spencer>,\n",
       " <Character - ID: 8729713545397; name: m. spencer>,\n",
       " <Character - ID: 8729713545409; name: uncle stanley>,\n",
       " <Character - ID: 8729713545655; name: burdon woodward>,\n",
       " <Character - ID: 8729713545856; name: david copperfield>,\n",
       " <Character - ID: 8729713545727; name: black jack>,\n",
       " <Character - ID: 8729713545514; name: betsey ross>,\n",
       " <Character - ID: 8729713545445; name: joan of arc>,\n",
       " <Character - ID: 8729713448123; name: ma'm maynard>,\n",
       " <Character - ID: 8729713448156; name: james o. macpherson>,\n",
       " <Character - ID: 8729713448114; name: josiah spencers>,\n",
       " <Character - ID: 8729713448096; name: m'sieur beaucaire>,\n",
       " <Character - ID: 8729713448105; name: don juan>,\n",
       " <Character - ID: 8729713448042; name: lieutenant cabot>,\n",
       " <Character - ID: 8729713448078; name: molly pitcher>,\n",
       " <Character - ID: 8729713448093; name: jimmy kelly>,\n",
       " <Character - ID: 8729713448228; name: mary mcmillan>,\n",
       " <Character - ID: 8729713448120; name: james kelly>,\n",
       " <Character - ID: 8729713448129; name: sam reisinger>,\n",
       " <Character - ID: 8729713448111; name: helen cabot>,\n",
       " <Character - ID: 8729713448909; name: nicholas rapieff>,\n",
       " <Character - ID: 8729713448102; name: paul spencer>,\n",
       " <Character - ID: 8729713448057; name: archibald forbes>,\n",
       " <Character - ID: 8729713448048; name: william the thoughtful>]"
      ]
     },
     "execution_count": 44,
     "metadata": {},
     "output_type": "execute_result"
    }
   ],
   "source": [
    "story.potential_characters"
   ]
  },
  {
   "cell_type": "code",
   "execution_count": 41,
   "metadata": {},
   "outputs": [
    {
     "data": {
      "text/plain": [
       "['o.']"
      ]
     },
     "execution_count": 41,
     "metadata": {},
     "output_type": "execute_result"
    }
   ],
   "source": [
    "'james o. macpherson'.split()[1:-1]"
   ]
  },
  {
   "cell_type": "code",
   "execution_count": null,
   "metadata": {},
   "outputs": [],
   "source": [
    "for char in story.potential_characters"
   ]
  },
  {
   "cell_type": "code",
   "execution_count": 50,
   "metadata": {
    "scrolled": false
   },
   "outputs": [
    {
     "name": "stdout",
     "output_type": "stream",
     "text": [
      "abner spicer <> abner spencer\n",
      "josiah spencer <> abner spencer\n",
      "josiah spencer <> m. spencer\n",
      "josiah spencer <> josiah spencers\n",
      "josiah spencer <> paul spencer\n",
      "abner spencer <> m. spencer\n",
      "abner spencer <> paul spencer\n",
      "angel of death <> angel of life\n",
      "stanley woodward <> cousin stanley\n",
      "stanley woodward <> uncle stanley\n",
      "stanley woodward <> burdon woodward\n",
      "cousin stanley <> uncle stanley\n",
      "archey forbes <> archibald forbes\n",
      "wally cabot <> walter cabot\n",
      "wally cabot <> lieutenant cabot\n",
      "wally cabot <> helen cabot\n",
      "walter cabot <> lieutenant cabot\n",
      "walter cabot <> helen cabot\n",
      "mary spencer <> mary mcmillan\n",
      "m. spencer <> paul spencer\n",
      "james o. macpherson <> james kelly\n",
      "lieutenant cabot <> helen cabot\n",
      "jimmy kelly <> james kelly\n"
     ]
    }
   ],
   "source": [
    "from itertools import combinations\n",
    "from story_wrapper.models import Occurrence, Character\n",
    "\n",
    "def filter_relevant_character_combinations(characters: list[Character]) -> list:\n",
    "    \"\"\"\n",
    "    Filter out combinations of candidates where no tokens match.\n",
    "    \n",
    "    Args:\n",
    "    - characters: a list of potential characters in the Character object form.\n",
    "    \n",
    "    Returns:\n",
    "    - list: A filtered list of relevant combinations.\n",
    "    \"\"\"\n",
    "    relevant_combinations = []\n",
    "    excluded_pos = [\"DET\", \"PART\", \"ADP\"]\n",
    "    \n",
    "    # Generate all combinations of 2 candidates\n",
    "    for candidate1, candidate2 in combinations(characters, 2):\n",
    "        span1 = candidate1.occurrences[0].span\n",
    "        span2 = candidate2.occurrences[0].span\n",
    "        \n",
    "        tokens1 = {token.lower_ for token in span1 if token.pos_ not in excluded_pos}\n",
    "        tokens2 = {token.lower_ for token in span2 if token.pos_ not in excluded_pos}\n",
    "        \n",
    "        # Check if there are any common tokens\n",
    "        if tokens1.intersection(tokens2):\n",
    "            relevant_combinations.append((candidate1, candidate2))\n",
    "            \n",
    "    return relevant_combinations\n",
    "\n",
    "# Example\n",
    "\n",
    "filtered_character_combinations = filter_relevant_character_combinations(story.potential_characters)\n",
    "\n",
    "for c1, c2 in filtered_character_combinations:\n",
    "    print(c1.name, \"<>\", c2.name)"
   ]
  },
  {
   "cell_type": "markdown",
   "metadata": {},
   "source": [
    "## Nicknames\n",
    "\n",
    "https://github.com/carltonnorthern/nicknames"
   ]
  },
  {
   "cell_type": "code",
   "execution_count": 38,
   "metadata": {},
   "outputs": [],
   "source": [
    "from nicknames import NickNamer\n",
    "\n",
    "nn = NickNamer()"
   ]
  },
  {
   "cell_type": "code",
   "execution_count": 39,
   "metadata": {},
   "outputs": [
    {
     "data": {
      "text/plain": [
       "{'wally', 'walt'}"
      ]
     },
     "execution_count": 39,
     "metadata": {},
     "output_type": "execute_result"
    }
   ],
   "source": [
    "nn.nicknames_of(\"Walter\")"
   ]
  },
  {
   "cell_type": "code",
   "execution_count": 51,
   "metadata": {},
   "outputs": [
    {
     "data": {
      "text/plain": [
       "{'archie'}"
      ]
     },
     "execution_count": 51,
     "metadata": {},
     "output_type": "execute_result"
    }
   ],
   "source": [
    "nn.nicknames_of(\"archibald\")"
   ]
  },
  {
   "cell_type": "code",
   "execution_count": 48,
   "metadata": {},
   "outputs": [
    {
     "name": "stdout",
     "output_type": "stream",
     "text": [
      "Match <Character - ID: 8729713545553; name: wally cabot>, <Character - ID: 8729713545571; name: walter cabot>\n",
      "Match <Character - ID: 8729713448093; name: jimmy kelly>, <Character - ID: 8729713448120; name: james kelly>\n"
     ]
    }
   ],
   "source": [
    "for c1, c2 in filtered_character_combinations:\n",
    "    if c2.first_name in nn.nicknames_of(c1.first_name) or c1.first_name in nn.nicknames_of(c2.first_name):\n",
    "        print(f\"Match {c1}, {c2}\")"
   ]
  },
  {
   "cell_type": "markdown",
   "metadata": {},
   "source": [
    "We run a merge method, replace the character ID of the main character with the merged version and delete the character that has been merged in."
   ]
  },
  {
   "cell_type": "code",
   "execution_count": 52,
   "metadata": {},
   "outputs": [],
   "source": [
    "def merge_characters_by_alias(main_character: Character, character_to_merge: Character) -> Character:\n",
    "    \"\"\"Merge two characters and return merged Character object.\"\"\"\n",
    "    main_character.add_occurrences(character_to_merge.occurrences)\n",
    "    main_character.aliases.append(character_to_merge.first_name)\n",
    "    return main_character"
   ]
  },
  {
   "cell_type": "code",
   "execution_count": null,
   "metadata": {},
   "outputs": [],
   "source": []
  },
  {
   "cell_type": "code",
   "execution_count": 54,
   "metadata": {},
   "outputs": [
    {
     "name": "stdout",
     "output_type": "stream",
     "text": [
      "[<Character - ID: 8729713626971; name: abner spicer>, <Character - ID: 8729713626239; name: ezra babcock>, <Character - ID: 8729713627121; name: josiah spencer>, <Character - ID: 8729713626905; name: martha berger>, <Character - ID: 8729713627013; name: abner spencer>, <Character - ID: 8729713626923; name: barbara fritchie>, <Character - ID: 8729713627001; name: patrick henry>, <Character - ID: 8729713545724; name: angel of death>, <Character - ID: 8729713545703; name: angel of life>, <Character - ID: 8729713545580; name: dauphin of>, <Character - ID: 8729713545799; name: stanley woodward>, <Character - ID: 8729713545817; name: cousin stanley>, <Character - ID: 8729713545796; name: archey forbes>, <Character - ID: 8729713545754; name: bob mcallister>, <Character - ID: 8729713545544; name: mon dieu>, <Character - ID: 8729713545490; name: st. cecilia>, <Character - ID: 8729713545553; name: wally cabot>, <Character - ID: 8729713545571; name: walter cabot>, <Character - ID: 8729713545823; name: will thompson>, <Character - ID: 8729713545862; name: george washington>, <Character - ID: 8729713545619; name: mary spencer>, <Character - ID: 8729713545397; name: m. spencer>, <Character - ID: 8729713545409; name: uncle stanley>, <Character - ID: 8729713545655; name: burdon woodward>, <Character - ID: 8729713545856; name: david copperfield>, <Character - ID: 8729713545727; name: black jack>, <Character - ID: 8729713545514; name: betsey ross>, <Character - ID: 8729713545445; name: joan of arc>, <Character - ID: 8729713448123; name: ma'm maynard>, <Character - ID: 8729713448156; name: james o. macpherson>, <Character - ID: 8729713448114; name: josiah spencers>, <Character - ID: 8729713448096; name: m'sieur beaucaire>, <Character - ID: 8729713448105; name: don juan>, <Character - ID: 8729713448042; name: lieutenant cabot>, <Character - ID: 8729713448078; name: molly pitcher>, <Character - ID: 8729713448093; name: jimmy kelly>, <Character - ID: 8729713448228; name: mary mcmillan>, <Character - ID: 8729713448120; name: james kelly>, <Character - ID: 8729713448129; name: sam reisinger>, <Character - ID: 8729713448111; name: helen cabot>, <Character - ID: 8729713448909; name: nicholas rapieff>, <Character - ID: 8729713448102; name: paul spencer>, <Character - ID: 8729713448057; name: archibald forbes>, <Character - ID: 8729713448048; name: william the thoughtful>] \n",
      "\n",
      "\n"
     ]
    },
    {
     "ename": "AttributeError",
     "evalue": "'Character' object has no attribute 'aliases'",
     "output_type": "error",
     "traceback": [
      "\u001b[0;31m---------------------------------------------------------------------------\u001b[0m",
      "\u001b[0;31mAttributeError\u001b[0m                            Traceback (most recent call last)",
      "Cell \u001b[0;32mIn[54], line 8\u001b[0m\n\u001b[1;32m      6\u001b[0m         characters\u001b[38;5;241m.\u001b[39mremove(candidate2)\n\u001b[1;32m      7\u001b[0m     \u001b[38;5;28;01mif\u001b[39;00m candidate1\u001b[38;5;241m.\u001b[39mfirst_name \u001b[38;5;129;01min\u001b[39;00m nn\u001b[38;5;241m.\u001b[39mnicknames_of(candidate2\u001b[38;5;241m.\u001b[39mfirst_name):\n\u001b[0;32m----> 8\u001b[0m         \u001b[43mmerge_characters_by_alias\u001b[49m\u001b[43m(\u001b[49m\u001b[43mcandidate2\u001b[49m\u001b[43m,\u001b[49m\u001b[43m \u001b[49m\u001b[43mcandidate1\u001b[49m\u001b[43m)\u001b[49m\n\u001b[1;32m      9\u001b[0m         characters\u001b[38;5;241m.\u001b[39mremove(candidate1)\n\u001b[1;32m     10\u001b[0m story\u001b[38;5;241m.\u001b[39mpotential_characters \u001b[38;5;241m=\u001b[39m characters\n",
      "Cell \u001b[0;32mIn[52], line 4\u001b[0m, in \u001b[0;36mmerge_characters_by_alias\u001b[0;34m(main_character, character_to_merge)\u001b[0m\n\u001b[1;32m      2\u001b[0m \u001b[38;5;250m\u001b[39m\u001b[38;5;124;03m\"\"\"Merge two characters and return merged Character object.\"\"\"\u001b[39;00m\n\u001b[1;32m      3\u001b[0m main_character\u001b[38;5;241m.\u001b[39madd_occurrences(character_to_merge\u001b[38;5;241m.\u001b[39moccurrences)\n\u001b[0;32m----> 4\u001b[0m \u001b[43mmain_character\u001b[49m\u001b[38;5;241;43m.\u001b[39;49m\u001b[43maliases\u001b[49m\u001b[38;5;241m.\u001b[39mappend(character_to_merge\u001b[38;5;241m.\u001b[39mfirst_name)\n\u001b[1;32m      5\u001b[0m \u001b[38;5;28;01mreturn\u001b[39;00m main_character\n",
      "\u001b[0;31mAttributeError\u001b[0m: 'Character' object has no attribute 'aliases'"
     ]
    }
   ],
   "source": [
    "characters = story.potential_characters\n",
    "print(characters, \"\\n\\n\")\n",
    "for candidate1, candidate2 in filtered_character_combinations:\n",
    "    if candidate2.firstname in nn.nicknames_of(candidate1.firstname):\n",
    "        merge_characters_by_alias(candidate1, candidate2)\n",
    "        characters.remove(candidate2)\n",
    "    if candidate1.firstname in nn.nicknames_of(candidate2.firstname):\n",
    "        merge_characters_by_alias(candidate2, candidate1)\n",
    "        characters.remove(candidate1)\n",
    "story.potential_characters = characters\n",
    "print(characters)"
   ]
  },
  {
   "cell_type": "markdown",
   "metadata": {},
   "source": [
    "Would it be useful to have a candidate list of first names and a candidate list of last names?\n",
    "\n",
    "We would need to use the multiple_token_candidates"
   ]
  },
  {
   "cell_type": "code",
   "execution_count": null,
   "metadata": {
    "scrolled": true
   },
   "outputs": [],
   "source": [
    "set(story.people_list())"
   ]
  },
  {
   "cell_type": "code",
   "execution_count": null,
   "metadata": {},
   "outputs": [],
   "source": [
    "len(set(story.people_list()))"
   ]
  },
  {
   "cell_type": "code",
   "execution_count": null,
   "metadata": {},
   "outputs": [],
   "source": [
    "len(set([o.text for o in story.occurrences]))"
   ]
  },
  {
   "cell_type": "code",
   "execution_count": null,
   "metadata": {},
   "outputs": [],
   "source": [
    "len(set([o.text.lower() for o in story.occurrences]))"
   ]
  },
  {
   "attachments": {
    "image.png": {
     "image/png": "[encoded data removed]"
    }
   },
   "cell_type": "markdown",
   "metadata": {},
   "source": [
    "![image.png](attachment:image.png)"
   ]
  },
  {
   "attachments": {
    "image.png": {
     "image/png": "[encoded data removed]"
    }
   },
   "cell_type": "markdown",
   "metadata": {},
   "source": [
    "Do we iterate through the occurrences and add to a set any lower version? And also generate a Character as a candidate_character?\n",
    "\n",
    "![image.png](attachment:image.png)"
   ]
  },
  {
   "cell_type": "markdown",
   "metadata": {},
   "source": [
    "I also now have a dictionary of nicknames.\n",
    "\n",
    "We want to flag if it is a match and save the match type:\n",
    "* Exact Single One Token - exact string match with a character name that is one token and where we have only one character entry for that name (e.g., this would be a firstname or surname match - \"Mary\" and \"Mary\" or \"Spencer\" and \"Spencer\").\n",
    "* Exact Single Multiple Token - exact string match with a character name that is multiple tokens and where we have only one character entry for that name (e.g., this would be a firstname and surname match). This would be the most reliable. E.g. \"Mary Jones\" and \"Mary Jones\".\n",
    "* Partial - one or more but not all tokens match, e.g. \"Mary\" and \"Mary Jones\" (or vice versa). Or \"Stanley\" and \"Cousin Stanley\".\n",
    "* Partial Mutliple Token - multiple tokens match but not all tokens, more reliable that just one partial token match (e.g., John Major and John O. Major)\n",
    "* Partial Within String - probably the least reliable but sometimes a possessive \"'s\" does not have the \"'\" so we have \"Ishmael\" and \"Ishmaels\" - more reliable if single token and there is a match apart from the last \"s\"\n",
    "* Exact Multiple/Ambiguous - exact string match but multiple characters with the same name, e.g. we have previous \"Mary Jones\" and \"Mary Smith\" and now we have \"Mary\".\n",
    "* Nickname Exact Single One Token - a match via a nickname - the name is only one token and matches the character name as a nickname match (e.g. Patty and Patricia).\n",
    "* Nickname and surname match Multiple Token - the surnames match and the first name has a nickname match. This is also pretty reliable. E.g. \"Patricia Smith\" and \"Patty Smith\"."
   ]
  },
  {
   "cell_type": "code",
   "execution_count": null,
   "metadata": {},
   "outputs": [],
   "source": [
    "story.count_characters()"
   ]
  },
  {
   "cell_type": "code",
   "execution_count": null,
   "metadata": {},
   "outputs": [],
   "source": [
    "\"Mary\".split()"
   ]
  },
  {
   "cell_type": "code",
   "execution_count": null,
   "metadata": {},
   "outputs": [],
   "source": [
    "multiple_words = [c for c in story.characters() if len(c.split()) > 1]"
   ]
  },
  {
   "cell_type": "code",
   "execution_count": null,
   "metadata": {
    "scrolled": true
   },
   "outputs": [],
   "source": [
    "multiple_words"
   ]
  },
  {
   "cell_type": "code",
   "execution_count": null,
   "metadata": {},
   "outputs": [],
   "source": [
    "character_names = story.characters()"
   ]
  },
  {
   "cell_type": "code",
   "execution_count": null,
   "metadata": {},
   "outputs": [],
   "source": [
    "from collections import defaultdict\n",
    "\n",
    "def (character_names: list) -> dict:\n",
    "    \"\"\"Build a dictionary of unique names.\"\"\"\n",
    "    name_dict = defaultdict(set)\n",
    "    for name in character_names:\n",
    "        name_parts = name.split()\n",
    "        first_name = name_parts[0].lower()  # Normalizing to lowercase\n",
    "        name_dict[first_name].add(name)\n",
    "    return {k: list(v) for k, v in name_dict.items()}\n",
    "\n",
    "unique_name_dict = build_unique_name_dict(character_names)\n",
    "print(unique_name_dict)"
   ]
  },
  {
   "cell_type": "code",
   "execution_count": null,
   "metadata": {},
   "outputs": [],
   "source": [
    "spacy_characters = []\n",
    "for doc in story.docs:\n",
    "    for ent in doc.ents:\n",
    "        if ent.label_ == \"PERSON\":\n",
    "            spacy_characters.append(ent)"
   ]
  },
  {
   "cell_type": "code",
   "execution_count": null,
   "metadata": {},
   "outputs": [],
   "source": [
    "spacy_characters"
   ]
  },
  {
   "cell_type": "code",
   "execution_count": null,
   "metadata": {},
   "outputs": [],
   "source": [
    "spacy_characters[14][0], spacy_characters[14][0].pos_"
   ]
  },
  {
   "cell_type": "code",
   "execution_count": null,
   "metadata": {},
   "outputs": [],
   "source": [
    "for char in spacy_characters:\n",
    "    if char[0].pos_ == \"DET\":\n",
    "        print(f\"{char.text} has a leading DET. Name without: {char[1:].text}\")"
   ]
  },
  {
   "cell_type": "code",
   "execution_count": null,
   "metadata": {},
   "outputs": [],
   "source": [
    "from typing import List, Dict, Union\n",
    "from spacy.tokens import Span\n",
    "\n",
    "def clean_entities(spacy_characters: List[Span]) -> List[Dict[str, Union[str | Span]]]:\n",
    "    \"\"\"Clean and store SpaCy character entities.\"\"\"\n",
    "    cleaned_chars = []\n",
    "    for char in spacy_characters:\n",
    "        char_dict = {\"original\": char.text, \"cleaned\": char.text, \"ent_span\": char}\n",
    "\n",
    "        # Remove leading determiners\n",
    "        if char[0].pos_ == \"DET\":\n",
    "            char_dict[\"cleaned\"] = char[1:].text\n",
    "\n",
    "        # Remove trailing possessives\n",
    "        if char[-1].text == \"'s\" or char[-1].text == \"’s\":\n",
    "            char_dict[\"cleaned\"] = char[:-1].text\n",
    "            \n",
    "        \n",
    "\n",
    "        cleaned_chars.append(char_dict)\n",
    "    return cleaned_chars"
   ]
  },
  {
   "cell_type": "code",
   "execution_count": null,
   "metadata": {},
   "outputs": [],
   "source": [
    "cleaned = clean_entities(spacy_characters)"
   ]
  },
  {
   "cell_type": "code",
   "execution_count": null,
   "metadata": {},
   "outputs": [],
   "source": [
    "cleaned"
   ]
  },
  {
   "cell_type": "code",
   "execution_count": null,
   "metadata": {},
   "outputs": [],
   "source": [
    "unique = build_unique_name_dict([c['cleaned'] for c in cleaned])"
   ]
  },
  {
   "cell_type": "code",
   "execution_count": null,
   "metadata": {},
   "outputs": [],
   "source": [
    "unique['burdon']"
   ]
  },
  {
   "cell_type": "code",
   "execution_count": null,
   "metadata": {},
   "outputs": [],
   "source": [
    "burdon = [c for c in cleaned if c['cleaned'] == 'Burdon Woodward--']"
   ]
  },
  {
   "cell_type": "code",
   "execution_count": null,
   "metadata": {},
   "outputs": [],
   "source": [
    "burdon"
   ]
  },
  {
   "cell_type": "code",
   "execution_count": null,
   "metadata": {},
   "outputs": [],
   "source": [
    "len(burdon[0]['ent_span'])"
   ]
  },
  {
   "cell_type": "code",
   "execution_count": null,
   "metadata": {},
   "outputs": [],
   "source": [
    "burdon[0]['ent_span'][-1]"
   ]
  },
  {
   "cell_type": "code",
   "execution_count": null,
   "metadata": {},
   "outputs": [],
   "source": [
    "unique"
   ]
  },
  {
   "cell_type": "code",
   "execution_count": null,
   "metadata": {},
   "outputs": [],
   "source": [
    "def find_single_reference_names(name_dict: Dict[str, List[str]]) -> Dict[str, str]:\n",
    "    \"\"\"\n",
    "    Identify names that only appear with one full-name configuration.\n",
    "    Modified to handle edge cases.\n",
    "    \"\"\"\n",
    "    single_reference_names = {}\n",
    "    for first_name, full_names in name_dict.items():\n",
    "        # Normalize case\n",
    "        full_names = [name.lower() for name in full_names]\n",
    "        \n",
    "        # Filter out polluted names and single first names\n",
    "        clean_full_names = [name for name in full_names if name.isalpha() and name != first_name]\n",
    "        \n",
    "        # If there's only one unique full name, consider it a single reference name\n",
    "        if len(set(clean_full_names)) == 1:\n",
    "            single_reference_names[first_name] = clean_full_names[0]\n",
    "            \n",
    "    return single_reference_names\n",
    "\n",
    "# Example usage\n",
    "name_dict = {\n",
    "    'mary': ['Mary McMillan', 'MARY SPENCER', 'Mary', \"Mary Spencer'--you\", 'Mary Spencer'],\n",
    "    'archey': ['Archey Forbes', 'Archey']\n",
    "}\n",
    "single_reference_names = find_single_reference_names(name_dict)\n",
    "print(single_reference_names)"
   ]
  },
  {
   "cell_type": "code",
   "execution_count": null,
   "metadata": {},
   "outputs": [],
   "source": [
    "single_reference_names = find_single_reference_names(unique)"
   ]
  },
  {
   "cell_type": "code",
   "execution_count": null,
   "metadata": {},
   "outputs": [],
   "source": [
    "single_reference_names"
   ]
  },
  {
   "cell_type": "code",
   "execution_count": null,
   "metadata": {},
   "outputs": [],
   "source": [
    "name_dict['archey']"
   ]
  },
  {
   "cell_type": "code",
   "execution_count": null,
   "metadata": {},
   "outputs": [],
   "source": [
    "[name.lower() for name in name_dict['archey'] if name.lower().isalpha() and name.lower() != 'archey']"
   ]
  },
  {
   "cell_type": "code",
   "execution_count": null,
   "metadata": {},
   "outputs": [],
   "source": [
    "name_dict['archey'][0].isalpha()"
   ]
  },
  {
   "cell_type": "code",
   "execution_count": null,
   "metadata": {},
   "outputs": [],
   "source": [
    "name_dict['archey'][1].isalpha()"
   ]
  },
  {
   "cell_type": "code",
   "execution_count": null,
   "metadata": {},
   "outputs": [],
   "source": [
    "def filter_name(name: str) -> bool:\n",
    "    \"\"\"\n",
    "    Check if the name consists of alphabetic characters, spaces, periods, or hyphens,\n",
    "    and contains at most one space.\n",
    "    \"\"\"\n",
    "    allowed_special_chars = {\".\", \"-\"}\n",
    "    words = name.split()\n",
    "    if all(all(c.isalpha() or c in allowed_special_chars for c in word) for word in words):\n",
    "        return True\n",
    "    return False\n",
    "\n",
    "def find_single_reference_names(name_dict: Dict[str, List[str]]) -> Dict[str, str]:\n",
    "    \"\"\"\n",
    "    Identify names that only appear with one full-name configuration.\n",
    "    Modified to handle edge cases.\n",
    "    \"\"\"\n",
    "    single_reference_names = {}\n",
    "    for first_name, full_names in name_dict.items():\n",
    "        # Normalize case\n",
    "        full_names = [name.lower() for name in full_names]\n",
    "        \n",
    "        # Filter out polluted names and single first names\n",
    "        clean_full_names = [name for name in full_names if filter_name(name) and name != first_name]\n",
    "        \n",
    "        # If there's only one unique full name, consider it a single reference name\n",
    "        if len(set(clean_full_names)) == 1:\n",
    "            single_reference_names[first_name] = clean_full_names[0]\n",
    "            \n",
    "    return single_reference_names"
   ]
  },
  {
   "cell_type": "code",
   "execution_count": null,
   "metadata": {},
   "outputs": [],
   "source": [
    "# Example usage\n",
    "name_dict = {\n",
    "    'mary': ['Mary McMillan', 'MARY SPENCER', 'Mary', \"Mary Spencer'--you\", 'Mary Spencer'],\n",
    "    'archey': ['Archey Forbes', 'Archey']\n",
    "}\n",
    "single_reference_names = find_single_reference_names(name_dict)\n",
    "print(single_reference_names)"
   ]
  },
  {
   "cell_type": "code",
   "execution_count": null,
   "metadata": {},
   "outputs": [],
   "source": [
    "single_reference_names = find_single_reference_names(unique)\n",
    "print(single_reference_names)"
   ]
  },
  {
   "cell_type": "code",
   "execution_count": null,
   "metadata": {},
   "outputs": [],
   "source": [
    "from typing import List, Dict, Union\n",
    "\n",
    "def add_assumed_full_name(\n",
    "    entity_list: List[Dict[str, Union[str, object]]], \n",
    "    name_mapping: Dict[str, str]\n",
    ") -> List[Dict[str, Union[str, object]]]:\n",
    "    \"\"\"\n",
    "    Updates the entity list by adding 'assumed_full_name', 'surname_added', and 'confirmed_full_name' fields for each entity.\n",
    "    \n",
    "    Parameters:\n",
    "    - entity_list (List[Dict[str, Union[str, object]]]): The list of entities as dictionaries\n",
    "    - name_mapping (Dict[str, str]): The mapping of first names to full names\n",
    "    \n",
    "    Returns:\n",
    "    - List[Dict[str, Union[str, object]]]: The updated entity list\n",
    "    \"\"\"\n",
    "    # Create an inverse mapping from full name to first name\n",
    "    inverse_mapping = {v.lower(): k for k, v in name_mapping.items()}\n",
    "    \n",
    "    for entity in entity_list:\n",
    "        cleaned_name = entity['cleaned'].lower()\n",
    "        \n",
    "        # Check if the cleaned_name exists in either the name_mapping or the inverse_mapping dictionaries\n",
    "        if cleaned_name in name_mapping:\n",
    "            entity['assumed_full_name'] = name_mapping[cleaned_name]\n",
    "            entity['surname_added'] = True\n",
    "            entity['confirmed_full_name'] = True\n",
    "        elif cleaned_name in inverse_mapping:\n",
    "            entity['assumed_full_name'] = cleaned_name\n",
    "            entity['surname_added'] = False\n",
    "            entity['confirmed_full_name'] = True\n",
    "        else:\n",
    "            entity['assumed_full_name'] = entity['cleaned']\n",
    "            entity['surname_added'] = False\n",
    "            entity['confirmed_full_name'] = False\n",
    "\n",
    "    return entity_list"
   ]
  },
  {
   "cell_type": "code",
   "execution_count": null,
   "metadata": {},
   "outputs": [],
   "source": [
    "entities = add_assumed_full_name(cleaned, single_reference_names)"
   ]
  },
  {
   "cell_type": "code",
   "execution_count": null,
   "metadata": {
    "scrolled": true
   },
   "outputs": [],
   "source": [
    "entities"
   ]
  },
  {
   "cell_type": "code",
   "execution_count": null,
   "metadata": {},
   "outputs": [],
   "source": []
  }
 ],
 "metadata": {
  "kernelspec": {
   "display_name": "story-wrapper",
   "language": "python",
   "name": "story-wrapper"
  },
  "language_info": {
   "codemirror_mode": {
    "name": "ipython",
    "version": 3
   },
   "file_extension": ".py",
   "mimetype": "text/x-python",
   "name": "python",
   "nbconvert_exporter": "python",
   "pygments_lexer": "ipython3",
   "version": "3.10.12"
  }
 },
 "nbformat": 4,
 "nbformat_minor": 4
}
